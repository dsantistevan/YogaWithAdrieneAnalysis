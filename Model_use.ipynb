{
  "cells": [
    {
      "cell_type": "code",
      "source": [
        "from google.colab import drive\n",
        "drive.mount('/content/drive')"
      ],
      "metadata": {
        "colab": {
          "base_uri": "https://localhost:8080/"
        },
        "id": "xlpzS_2goKB7",
        "outputId": "91260961-845f-40f8-a52f-17a31995330e"
      },
      "id": "xlpzS_2goKB7",
      "execution_count": null,
      "outputs": [
        {
          "output_type": "stream",
          "name": "stdout",
          "text": [
            "Drive already mounted at /content/drive; to attempt to forcibly remount, call drive.mount(\"/content/drive\", force_remount=True).\n"
          ]
        }
      ]
    },
    {
      "cell_type": "code",
      "source": [
        "HOME_DIR = '/content/drive/MyDrive/tesis_final_work/'"
      ],
      "metadata": {
        "id": "kPCYbUcnoT5a"
      },
      "id": "kPCYbUcnoT5a",
      "execution_count": null,
      "outputs": []
    },
    {
      "cell_type": "code",
      "execution_count": null,
      "id": "d371834d",
      "metadata": {
        "id": "d371834d"
      },
      "outputs": [],
      "source": [
        "!pip install -q -U watermark"
      ]
    },
    {
      "cell_type": "code",
      "source": [
        "!pip install -q -U transformers"
      ],
      "metadata": {
        "id": "spWeFdB-xclt"
      },
      "id": "spWeFdB-xclt",
      "execution_count": null,
      "outputs": []
    },
    {
      "cell_type": "code",
      "execution_count": null,
      "id": "a5755a4f",
      "metadata": {
        "colab": {
          "base_uri": "https://localhost:8080/"
        },
        "id": "a5755a4f",
        "outputId": "76c1ce42-a241-4c2e-a4fb-d4ce527626da"
      },
      "outputs": [
        {
          "output_type": "stream",
          "name": "stdout",
          "text": [
            "Python implementation: CPython\n",
            "Python version       : 3.7.13\n",
            "IPython version      : 7.9.0\n",
            "\n",
            "numpy       : 1.21.6\n",
            "pandas      : 1.3.5\n",
            "torch       : 1.12.1+cu113\n",
            "transformers: 4.21.3\n",
            "\n"
          ]
        }
      ],
      "source": [
        "%reload_ext watermark\n",
        "%watermark -v -p numpy,pandas,torch,transformers"
      ]
    },
    {
      "cell_type": "code",
      "execution_count": null,
      "id": "48c63ac9",
      "metadata": {
        "colab": {
          "base_uri": "https://localhost:8080/"
        },
        "id": "48c63ac9",
        "outputId": "d8d59b66-391b-43b0-9b49-5228a1c5c3fc"
      },
      "outputs": [
        {
          "output_type": "execute_result",
          "data": {
            "text/plain": [
              "device(type='cuda', index=0)"
            ]
          },
          "metadata": {},
          "execution_count": 391
        }
      ],
      "source": [
        "import transformers\n",
        "from transformers import AutoModel, AutoTokenizer, AdamW, get_linear_schedule_with_warmup\n",
        "import torch\n",
        "\n",
        "import numpy as np\n",
        "import pandas as pd\n",
        "import seaborn as sns\n",
        "from pylab import rcParams\n",
        "import matplotlib.pyplot as plt\n",
        "from matplotlib import rc\n",
        "from sklearn.model_selection import train_test_split\n",
        "from sklearn.metrics import confusion_matrix, classification_report\n",
        "from collections import defaultdict\n",
        "from textwrap import wrap\n",
        "\n",
        "from torch import nn, optim\n",
        "from torch.utils.data import Dataset, DataLoader\n",
        "import torch.nn.functional as F\n",
        "\n",
        "%matplotlib inline\n",
        "%config InlineBackend.figure_format='retina'\n",
        "\n",
        "sns.set(style='whitegrid', palette='muted', font_scale=1.2)\n",
        "\n",
        "HAPPY_COLORS_PALETTE = [\"#01BEFE\", \"#FFDD00\", \"#FF7D00\", \"#FF006D\", \"#ADFF02\", \"#8F00FF\"]\n",
        "\n",
        "sns.set_palette(sns.color_palette(HAPPY_COLORS_PALETTE))\n",
        "\n",
        "rcParams['figure.figsize'] = 12, 8\n",
        "\n",
        "\n",
        "device = torch.device(\"cuda:0\" if torch.cuda.is_available() else \"cpu\")\n",
        "device"
      ]
    },
    {
      "cell_type": "code",
      "execution_count": null,
      "id": "c38d57a3",
      "metadata": {
        "colab": {
          "base_uri": "https://localhost:8080/",
          "height": 1000
        },
        "id": "c38d57a3",
        "outputId": "22840c82-7b3d-4e4e-9494-c74e8657599c"
      },
      "outputs": [
        {
          "output_type": "execute_result",
          "data": {
            "text/plain": [
              "                                                comment  \\\n",
              "1000                                                      \n",
              "0     Hello and can I ask you if I can do also other...   \n",
              "1     As a person with Lyme Disease who is chronical...   \n",
              "3                  Has anyone lost weight from this? ❤️   \n",
              "4      doing this to start my fourth year of university   \n",
              "5      Simply love it thought I was in shape until this   \n",
              "...                                                 ...   \n",
              "2515                   Mil gracias yoga with ADRIANE!!!   \n",
              "2516  So grateful for you and for this daily practic...   \n",
              "2517  Thank you ☺️\\n\\nMy partner and I do it every e...   \n",
              "2518                                         Thank you!   \n",
              "2519                         Thank you and Namaskaram 🙏   \n",
              "\n",
              "     Prequalified sentiment Information Opinion Advice Impression Progress  \\\n",
              "1000                                                                         \n",
              "0                 -0.894868         0.0     0.0    0.7        0.0      0.0   \n",
              "1                 -0.992691         0.5     0.3    0.9        0.0      0.0   \n",
              "3                 -0.997208         0.0     0.0    0.5        0.6      0.0   \n",
              "4                  0.991657         0.5     0.0    0.0        0.0      0.8   \n",
              "5                  0.999816         0.2     0.8    0.0        0.4      0.2   \n",
              "...                     ...         ...     ...    ...        ...      ...   \n",
              "2515               0.730353         0.0     0.8    0.0        0.8      0.0   \n",
              "2516                0.99983         0.0     0.8    0.0        0.8      0.0   \n",
              "2517                0.99747         0.6     0.0    0.0        0.7      0.8   \n",
              "2518               0.999858         0.2     0.7    0.0        0.7      0.0   \n",
              "2519               0.999655         0.0     0.8    0.0        0.8      0.0   \n",
              "\n",
              "     Exercise Body Video Length Reviewer  \n",
              "1000                                      \n",
              "0         0.4  0.0   0.0     74        J  \n",
              "1         0.4  0.0   0.6    273        J  \n",
              "3         0.0  0.8   0.0     36        J  \n",
              "4         0.0  0.0   0.0     48        J  \n",
              "5         0.0  0.5   0.0     48        J  \n",
              "...       ...  ...   ...    ...      ...  \n",
              "2515      0.0  0.7   0.6     32        D  \n",
              "2516      0.0  0.7   0.6     69        D  \n",
              "2517      0.0  0.7   0.5    245        D  \n",
              "2518      0.0  0.2   0.5     10        D  \n",
              "2519      0.0  0.7   0.6     27        D  \n",
              "\n",
              "[2510 rows x 12 columns]"
            ],
            "text/html": [
              "\n",
              "  <div id=\"df-7de1ecb7-1101-4b57-81a6-939308e50673\">\n",
              "    <div class=\"colab-df-container\">\n",
              "      <div>\n",
              "<style scoped>\n",
              "    .dataframe tbody tr th:only-of-type {\n",
              "        vertical-align: middle;\n",
              "    }\n",
              "\n",
              "    .dataframe tbody tr th {\n",
              "        vertical-align: top;\n",
              "    }\n",
              "\n",
              "    .dataframe thead th {\n",
              "        text-align: right;\n",
              "    }\n",
              "</style>\n",
              "<table border=\"1\" class=\"dataframe\">\n",
              "  <thead>\n",
              "    <tr style=\"text-align: right;\">\n",
              "      <th></th>\n",
              "      <th>comment</th>\n",
              "      <th>Prequalified sentiment</th>\n",
              "      <th>Information</th>\n",
              "      <th>Opinion</th>\n",
              "      <th>Advice</th>\n",
              "      <th>Impression</th>\n",
              "      <th>Progress</th>\n",
              "      <th>Exercise</th>\n",
              "      <th>Body</th>\n",
              "      <th>Video</th>\n",
              "      <th>Length</th>\n",
              "      <th>Reviewer</th>\n",
              "    </tr>\n",
              "    <tr>\n",
              "      <th>1000</th>\n",
              "      <th></th>\n",
              "      <th></th>\n",
              "      <th></th>\n",
              "      <th></th>\n",
              "      <th></th>\n",
              "      <th></th>\n",
              "      <th></th>\n",
              "      <th></th>\n",
              "      <th></th>\n",
              "      <th></th>\n",
              "      <th></th>\n",
              "      <th></th>\n",
              "    </tr>\n",
              "  </thead>\n",
              "  <tbody>\n",
              "    <tr>\n",
              "      <th>0</th>\n",
              "      <td>Hello and can I ask you if I can do also other...</td>\n",
              "      <td>-0.894868</td>\n",
              "      <td>0.0</td>\n",
              "      <td>0.0</td>\n",
              "      <td>0.7</td>\n",
              "      <td>0.0</td>\n",
              "      <td>0.0</td>\n",
              "      <td>0.4</td>\n",
              "      <td>0.0</td>\n",
              "      <td>0.0</td>\n",
              "      <td>74</td>\n",
              "      <td>J</td>\n",
              "    </tr>\n",
              "    <tr>\n",
              "      <th>1</th>\n",
              "      <td>As a person with Lyme Disease who is chronical...</td>\n",
              "      <td>-0.992691</td>\n",
              "      <td>0.5</td>\n",
              "      <td>0.3</td>\n",
              "      <td>0.9</td>\n",
              "      <td>0.0</td>\n",
              "      <td>0.0</td>\n",
              "      <td>0.4</td>\n",
              "      <td>0.0</td>\n",
              "      <td>0.6</td>\n",
              "      <td>273</td>\n",
              "      <td>J</td>\n",
              "    </tr>\n",
              "    <tr>\n",
              "      <th>3</th>\n",
              "      <td>Has anyone lost weight from this? ❤️</td>\n",
              "      <td>-0.997208</td>\n",
              "      <td>0.0</td>\n",
              "      <td>0.0</td>\n",
              "      <td>0.5</td>\n",
              "      <td>0.6</td>\n",
              "      <td>0.0</td>\n",
              "      <td>0.0</td>\n",
              "      <td>0.8</td>\n",
              "      <td>0.0</td>\n",
              "      <td>36</td>\n",
              "      <td>J</td>\n",
              "    </tr>\n",
              "    <tr>\n",
              "      <th>4</th>\n",
              "      <td>doing this to start my fourth year of university</td>\n",
              "      <td>0.991657</td>\n",
              "      <td>0.5</td>\n",
              "      <td>0.0</td>\n",
              "      <td>0.0</td>\n",
              "      <td>0.0</td>\n",
              "      <td>0.8</td>\n",
              "      <td>0.0</td>\n",
              "      <td>0.0</td>\n",
              "      <td>0.0</td>\n",
              "      <td>48</td>\n",
              "      <td>J</td>\n",
              "    </tr>\n",
              "    <tr>\n",
              "      <th>5</th>\n",
              "      <td>Simply love it thought I was in shape until this</td>\n",
              "      <td>0.999816</td>\n",
              "      <td>0.2</td>\n",
              "      <td>0.8</td>\n",
              "      <td>0.0</td>\n",
              "      <td>0.4</td>\n",
              "      <td>0.2</td>\n",
              "      <td>0.0</td>\n",
              "      <td>0.5</td>\n",
              "      <td>0.0</td>\n",
              "      <td>48</td>\n",
              "      <td>J</td>\n",
              "    </tr>\n",
              "    <tr>\n",
              "      <th>...</th>\n",
              "      <td>...</td>\n",
              "      <td>...</td>\n",
              "      <td>...</td>\n",
              "      <td>...</td>\n",
              "      <td>...</td>\n",
              "      <td>...</td>\n",
              "      <td>...</td>\n",
              "      <td>...</td>\n",
              "      <td>...</td>\n",
              "      <td>...</td>\n",
              "      <td>...</td>\n",
              "      <td>...</td>\n",
              "    </tr>\n",
              "    <tr>\n",
              "      <th>2515</th>\n",
              "      <td>Mil gracias yoga with ADRIANE!!!</td>\n",
              "      <td>0.730353</td>\n",
              "      <td>0.0</td>\n",
              "      <td>0.8</td>\n",
              "      <td>0.0</td>\n",
              "      <td>0.8</td>\n",
              "      <td>0.0</td>\n",
              "      <td>0.0</td>\n",
              "      <td>0.7</td>\n",
              "      <td>0.6</td>\n",
              "      <td>32</td>\n",
              "      <td>D</td>\n",
              "    </tr>\n",
              "    <tr>\n",
              "      <th>2516</th>\n",
              "      <td>So grateful for you and for this daily practic...</td>\n",
              "      <td>0.99983</td>\n",
              "      <td>0.0</td>\n",
              "      <td>0.8</td>\n",
              "      <td>0.0</td>\n",
              "      <td>0.8</td>\n",
              "      <td>0.0</td>\n",
              "      <td>0.0</td>\n",
              "      <td>0.7</td>\n",
              "      <td>0.6</td>\n",
              "      <td>69</td>\n",
              "      <td>D</td>\n",
              "    </tr>\n",
              "    <tr>\n",
              "      <th>2517</th>\n",
              "      <td>Thank you ☺️\\n\\nMy partner and I do it every e...</td>\n",
              "      <td>0.99747</td>\n",
              "      <td>0.6</td>\n",
              "      <td>0.0</td>\n",
              "      <td>0.0</td>\n",
              "      <td>0.7</td>\n",
              "      <td>0.8</td>\n",
              "      <td>0.0</td>\n",
              "      <td>0.7</td>\n",
              "      <td>0.5</td>\n",
              "      <td>245</td>\n",
              "      <td>D</td>\n",
              "    </tr>\n",
              "    <tr>\n",
              "      <th>2518</th>\n",
              "      <td>Thank you!</td>\n",
              "      <td>0.999858</td>\n",
              "      <td>0.2</td>\n",
              "      <td>0.7</td>\n",
              "      <td>0.0</td>\n",
              "      <td>0.7</td>\n",
              "      <td>0.0</td>\n",
              "      <td>0.0</td>\n",
              "      <td>0.2</td>\n",
              "      <td>0.5</td>\n",
              "      <td>10</td>\n",
              "      <td>D</td>\n",
              "    </tr>\n",
              "    <tr>\n",
              "      <th>2519</th>\n",
              "      <td>Thank you and Namaskaram 🙏</td>\n",
              "      <td>0.999655</td>\n",
              "      <td>0.0</td>\n",
              "      <td>0.8</td>\n",
              "      <td>0.0</td>\n",
              "      <td>0.8</td>\n",
              "      <td>0.0</td>\n",
              "      <td>0.0</td>\n",
              "      <td>0.7</td>\n",
              "      <td>0.6</td>\n",
              "      <td>27</td>\n",
              "      <td>D</td>\n",
              "    </tr>\n",
              "  </tbody>\n",
              "</table>\n",
              "<p>2510 rows × 12 columns</p>\n",
              "</div>\n",
              "      <button class=\"colab-df-convert\" onclick=\"convertToInteractive('df-7de1ecb7-1101-4b57-81a6-939308e50673')\"\n",
              "              title=\"Convert this dataframe to an interactive table.\"\n",
              "              style=\"display:none;\">\n",
              "        \n",
              "  <svg xmlns=\"http://www.w3.org/2000/svg\" height=\"24px\"viewBox=\"0 0 24 24\"\n",
              "       width=\"24px\">\n",
              "    <path d=\"M0 0h24v24H0V0z\" fill=\"none\"/>\n",
              "    <path d=\"M18.56 5.44l.94 2.06.94-2.06 2.06-.94-2.06-.94-.94-2.06-.94 2.06-2.06.94zm-11 1L8.5 8.5l.94-2.06 2.06-.94-2.06-.94L8.5 2.5l-.94 2.06-2.06.94zm10 10l.94 2.06.94-2.06 2.06-.94-2.06-.94-.94-2.06-.94 2.06-2.06.94z\"/><path d=\"M17.41 7.96l-1.37-1.37c-.4-.4-.92-.59-1.43-.59-.52 0-1.04.2-1.43.59L10.3 9.45l-7.72 7.72c-.78.78-.78 2.05 0 2.83L4 21.41c.39.39.9.59 1.41.59.51 0 1.02-.2 1.41-.59l7.78-7.78 2.81-2.81c.8-.78.8-2.07 0-2.86zM5.41 20L4 18.59l7.72-7.72 1.47 1.35L5.41 20z\"/>\n",
              "  </svg>\n",
              "      </button>\n",
              "      \n",
              "  <style>\n",
              "    .colab-df-container {\n",
              "      display:flex;\n",
              "      flex-wrap:wrap;\n",
              "      gap: 12px;\n",
              "    }\n",
              "\n",
              "    .colab-df-convert {\n",
              "      background-color: #E8F0FE;\n",
              "      border: none;\n",
              "      border-radius: 50%;\n",
              "      cursor: pointer;\n",
              "      display: none;\n",
              "      fill: #1967D2;\n",
              "      height: 32px;\n",
              "      padding: 0 0 0 0;\n",
              "      width: 32px;\n",
              "    }\n",
              "\n",
              "    .colab-df-convert:hover {\n",
              "      background-color: #E2EBFA;\n",
              "      box-shadow: 0px 1px 2px rgba(60, 64, 67, 0.3), 0px 1px 3px 1px rgba(60, 64, 67, 0.15);\n",
              "      fill: #174EA6;\n",
              "    }\n",
              "\n",
              "    [theme=dark] .colab-df-convert {\n",
              "      background-color: #3B4455;\n",
              "      fill: #D2E3FC;\n",
              "    }\n",
              "\n",
              "    [theme=dark] .colab-df-convert:hover {\n",
              "      background-color: #434B5C;\n",
              "      box-shadow: 0px 1px 3px 1px rgba(0, 0, 0, 0.15);\n",
              "      filter: drop-shadow(0px 1px 2px rgba(0, 0, 0, 0.3));\n",
              "      fill: #FFFFFF;\n",
              "    }\n",
              "  </style>\n",
              "\n",
              "      <script>\n",
              "        const buttonEl =\n",
              "          document.querySelector('#df-7de1ecb7-1101-4b57-81a6-939308e50673 button.colab-df-convert');\n",
              "        buttonEl.style.display =\n",
              "          google.colab.kernel.accessAllowed ? 'block' : 'none';\n",
              "\n",
              "        async function convertToInteractive(key) {\n",
              "          const element = document.querySelector('#df-7de1ecb7-1101-4b57-81a6-939308e50673');\n",
              "          const dataTable =\n",
              "            await google.colab.kernel.invokeFunction('convertToInteractive',\n",
              "                                                     [key], {});\n",
              "          if (!dataTable) return;\n",
              "\n",
              "          const docLinkHtml = 'Like what you see? Visit the ' +\n",
              "            '<a target=\"_blank\" href=https://colab.research.google.com/notebooks/data_table.ipynb>data table notebook</a>'\n",
              "            + ' to learn more about interactive tables.';\n",
              "          element.innerHTML = '';\n",
              "          dataTable['output_type'] = 'display_data';\n",
              "          await google.colab.output.renderOutput(dataTable, element);\n",
              "          const docLink = document.createElement('div');\n",
              "          docLink.innerHTML = docLinkHtml;\n",
              "          element.appendChild(docLink);\n",
              "        }\n",
              "      </script>\n",
              "    </div>\n",
              "  </div>\n",
              "  "
            ]
          },
          "metadata": {},
          "execution_count": 392
        }
      ],
      "source": [
        "df_2 = pd.read_csv(HOME_DIR+\"regression/comments_training_dataset - Sheet1.csv\", index_col=\"1000\")\n",
        "df = df_2.dropna()\n",
        "df = df.T\n",
        "df.pop(450)\n",
        "df = df.T\n",
        "df"
      ]
    },
    {
      "cell_type": "code",
      "execution_count": null,
      "id": "20e3012a",
      "metadata": {
        "colab": {
          "base_uri": "https://localhost:8080/"
        },
        "id": "20e3012a",
        "outputId": "b40ec422-dc9e-4016-b2d2-7c31b23089ce"
      },
      "outputs": [
        {
          "output_type": "stream",
          "name": "stdout",
          "text": [
            "<class 'pandas.core.frame.DataFrame'>\n",
            "Int64Index: 2510 entries, 0 to 2519\n",
            "Data columns (total 12 columns):\n",
            " #   Column                  Non-Null Count  Dtype \n",
            "---  ------                  --------------  ----- \n",
            " 0   comment                 2510 non-null   object\n",
            " 1   Prequalified sentiment  2510 non-null   object\n",
            " 2   Information             2510 non-null   object\n",
            " 3   Opinion                 2510 non-null   object\n",
            " 4   Advice                  2510 non-null   object\n",
            " 5   Impression              2510 non-null   object\n",
            " 6   Progress                2510 non-null   object\n",
            " 7   Exercise                2510 non-null   object\n",
            " 8   Body                    2510 non-null   object\n",
            " 9   Video                   2510 non-null   object\n",
            " 10  Length                  2510 non-null   object\n",
            " 11  Reviewer                2510 non-null   object\n",
            "dtypes: object(12)\n",
            "memory usage: 254.9+ KB\n"
          ]
        }
      ],
      "source": [
        "df.info()"
      ]
    },
    {
      "cell_type": "code",
      "source": [
        "sentiments = ['Information', 'Opinion', 'Advice', 'Impression', 'Progress', 'Exercise', 'Body', 'Video']\n",
        "\n",
        "#for i in sentiments:\n",
        "#  df[i] = (df[i]/2 + 0.5)"
      ],
      "metadata": {
        "id": "Lzp57_aSVkFr"
      },
      "id": "Lzp57_aSVkFr",
      "execution_count": null,
      "outputs": []
    },
    {
      "cell_type": "code",
      "source": [
        "df"
      ],
      "metadata": {
        "colab": {
          "base_uri": "https://localhost:8080/",
          "height": 1000
        },
        "id": "Sa_APNw8VvXz",
        "outputId": "74bf133b-f1bd-4b37-fc2e-58523e79d4a5"
      },
      "id": "Sa_APNw8VvXz",
      "execution_count": null,
      "outputs": [
        {
          "output_type": "execute_result",
          "data": {
            "text/plain": [
              "                                                comment  \\\n",
              "1000                                                      \n",
              "0     Hello and can I ask you if I can do also other...   \n",
              "1     As a person with Lyme Disease who is chronical...   \n",
              "3                  Has anyone lost weight from this? ❤️   \n",
              "4      doing this to start my fourth year of university   \n",
              "5      Simply love it thought I was in shape until this   \n",
              "...                                                 ...   \n",
              "2515                   Mil gracias yoga with ADRIANE!!!   \n",
              "2516  So grateful for you and for this daily practic...   \n",
              "2517  Thank you ☺️\\n\\nMy partner and I do it every e...   \n",
              "2518                                         Thank you!   \n",
              "2519                         Thank you and Namaskaram 🙏   \n",
              "\n",
              "     Prequalified sentiment Information Opinion Advice Impression Progress  \\\n",
              "1000                                                                         \n",
              "0                 -0.894868         0.0     0.0    0.7        0.0      0.0   \n",
              "1                 -0.992691         0.5     0.3    0.9        0.0      0.0   \n",
              "3                 -0.997208         0.0     0.0    0.5        0.6      0.0   \n",
              "4                  0.991657         0.5     0.0    0.0        0.0      0.8   \n",
              "5                  0.999816         0.2     0.8    0.0        0.4      0.2   \n",
              "...                     ...         ...     ...    ...        ...      ...   \n",
              "2515               0.730353         0.0     0.8    0.0        0.8      0.0   \n",
              "2516                0.99983         0.0     0.8    0.0        0.8      0.0   \n",
              "2517                0.99747         0.6     0.0    0.0        0.7      0.8   \n",
              "2518               0.999858         0.2     0.7    0.0        0.7      0.0   \n",
              "2519               0.999655         0.0     0.8    0.0        0.8      0.0   \n",
              "\n",
              "     Exercise Body Video Length Reviewer  \n",
              "1000                                      \n",
              "0         0.4  0.0   0.0     74        J  \n",
              "1         0.4  0.0   0.6    273        J  \n",
              "3         0.0  0.8   0.0     36        J  \n",
              "4         0.0  0.0   0.0     48        J  \n",
              "5         0.0  0.5   0.0     48        J  \n",
              "...       ...  ...   ...    ...      ...  \n",
              "2515      0.0  0.7   0.6     32        D  \n",
              "2516      0.0  0.7   0.6     69        D  \n",
              "2517      0.0  0.7   0.5    245        D  \n",
              "2518      0.0  0.2   0.5     10        D  \n",
              "2519      0.0  0.7   0.6     27        D  \n",
              "\n",
              "[2510 rows x 12 columns]"
            ],
            "text/html": [
              "\n",
              "  <div id=\"df-735e7630-700e-480c-929a-c37e79c601d4\">\n",
              "    <div class=\"colab-df-container\">\n",
              "      <div>\n",
              "<style scoped>\n",
              "    .dataframe tbody tr th:only-of-type {\n",
              "        vertical-align: middle;\n",
              "    }\n",
              "\n",
              "    .dataframe tbody tr th {\n",
              "        vertical-align: top;\n",
              "    }\n",
              "\n",
              "    .dataframe thead th {\n",
              "        text-align: right;\n",
              "    }\n",
              "</style>\n",
              "<table border=\"1\" class=\"dataframe\">\n",
              "  <thead>\n",
              "    <tr style=\"text-align: right;\">\n",
              "      <th></th>\n",
              "      <th>comment</th>\n",
              "      <th>Prequalified sentiment</th>\n",
              "      <th>Information</th>\n",
              "      <th>Opinion</th>\n",
              "      <th>Advice</th>\n",
              "      <th>Impression</th>\n",
              "      <th>Progress</th>\n",
              "      <th>Exercise</th>\n",
              "      <th>Body</th>\n",
              "      <th>Video</th>\n",
              "      <th>Length</th>\n",
              "      <th>Reviewer</th>\n",
              "    </tr>\n",
              "    <tr>\n",
              "      <th>1000</th>\n",
              "      <th></th>\n",
              "      <th></th>\n",
              "      <th></th>\n",
              "      <th></th>\n",
              "      <th></th>\n",
              "      <th></th>\n",
              "      <th></th>\n",
              "      <th></th>\n",
              "      <th></th>\n",
              "      <th></th>\n",
              "      <th></th>\n",
              "      <th></th>\n",
              "    </tr>\n",
              "  </thead>\n",
              "  <tbody>\n",
              "    <tr>\n",
              "      <th>0</th>\n",
              "      <td>Hello and can I ask you if I can do also other...</td>\n",
              "      <td>-0.894868</td>\n",
              "      <td>0.0</td>\n",
              "      <td>0.0</td>\n",
              "      <td>0.7</td>\n",
              "      <td>0.0</td>\n",
              "      <td>0.0</td>\n",
              "      <td>0.4</td>\n",
              "      <td>0.0</td>\n",
              "      <td>0.0</td>\n",
              "      <td>74</td>\n",
              "      <td>J</td>\n",
              "    </tr>\n",
              "    <tr>\n",
              "      <th>1</th>\n",
              "      <td>As a person with Lyme Disease who is chronical...</td>\n",
              "      <td>-0.992691</td>\n",
              "      <td>0.5</td>\n",
              "      <td>0.3</td>\n",
              "      <td>0.9</td>\n",
              "      <td>0.0</td>\n",
              "      <td>0.0</td>\n",
              "      <td>0.4</td>\n",
              "      <td>0.0</td>\n",
              "      <td>0.6</td>\n",
              "      <td>273</td>\n",
              "      <td>J</td>\n",
              "    </tr>\n",
              "    <tr>\n",
              "      <th>3</th>\n",
              "      <td>Has anyone lost weight from this? ❤️</td>\n",
              "      <td>-0.997208</td>\n",
              "      <td>0.0</td>\n",
              "      <td>0.0</td>\n",
              "      <td>0.5</td>\n",
              "      <td>0.6</td>\n",
              "      <td>0.0</td>\n",
              "      <td>0.0</td>\n",
              "      <td>0.8</td>\n",
              "      <td>0.0</td>\n",
              "      <td>36</td>\n",
              "      <td>J</td>\n",
              "    </tr>\n",
              "    <tr>\n",
              "      <th>4</th>\n",
              "      <td>doing this to start my fourth year of university</td>\n",
              "      <td>0.991657</td>\n",
              "      <td>0.5</td>\n",
              "      <td>0.0</td>\n",
              "      <td>0.0</td>\n",
              "      <td>0.0</td>\n",
              "      <td>0.8</td>\n",
              "      <td>0.0</td>\n",
              "      <td>0.0</td>\n",
              "      <td>0.0</td>\n",
              "      <td>48</td>\n",
              "      <td>J</td>\n",
              "    </tr>\n",
              "    <tr>\n",
              "      <th>5</th>\n",
              "      <td>Simply love it thought I was in shape until this</td>\n",
              "      <td>0.999816</td>\n",
              "      <td>0.2</td>\n",
              "      <td>0.8</td>\n",
              "      <td>0.0</td>\n",
              "      <td>0.4</td>\n",
              "      <td>0.2</td>\n",
              "      <td>0.0</td>\n",
              "      <td>0.5</td>\n",
              "      <td>0.0</td>\n",
              "      <td>48</td>\n",
              "      <td>J</td>\n",
              "    </tr>\n",
              "    <tr>\n",
              "      <th>...</th>\n",
              "      <td>...</td>\n",
              "      <td>...</td>\n",
              "      <td>...</td>\n",
              "      <td>...</td>\n",
              "      <td>...</td>\n",
              "      <td>...</td>\n",
              "      <td>...</td>\n",
              "      <td>...</td>\n",
              "      <td>...</td>\n",
              "      <td>...</td>\n",
              "      <td>...</td>\n",
              "      <td>...</td>\n",
              "    </tr>\n",
              "    <tr>\n",
              "      <th>2515</th>\n",
              "      <td>Mil gracias yoga with ADRIANE!!!</td>\n",
              "      <td>0.730353</td>\n",
              "      <td>0.0</td>\n",
              "      <td>0.8</td>\n",
              "      <td>0.0</td>\n",
              "      <td>0.8</td>\n",
              "      <td>0.0</td>\n",
              "      <td>0.0</td>\n",
              "      <td>0.7</td>\n",
              "      <td>0.6</td>\n",
              "      <td>32</td>\n",
              "      <td>D</td>\n",
              "    </tr>\n",
              "    <tr>\n",
              "      <th>2516</th>\n",
              "      <td>So grateful for you and for this daily practic...</td>\n",
              "      <td>0.99983</td>\n",
              "      <td>0.0</td>\n",
              "      <td>0.8</td>\n",
              "      <td>0.0</td>\n",
              "      <td>0.8</td>\n",
              "      <td>0.0</td>\n",
              "      <td>0.0</td>\n",
              "      <td>0.7</td>\n",
              "      <td>0.6</td>\n",
              "      <td>69</td>\n",
              "      <td>D</td>\n",
              "    </tr>\n",
              "    <tr>\n",
              "      <th>2517</th>\n",
              "      <td>Thank you ☺️\\n\\nMy partner and I do it every e...</td>\n",
              "      <td>0.99747</td>\n",
              "      <td>0.6</td>\n",
              "      <td>0.0</td>\n",
              "      <td>0.0</td>\n",
              "      <td>0.7</td>\n",
              "      <td>0.8</td>\n",
              "      <td>0.0</td>\n",
              "      <td>0.7</td>\n",
              "      <td>0.5</td>\n",
              "      <td>245</td>\n",
              "      <td>D</td>\n",
              "    </tr>\n",
              "    <tr>\n",
              "      <th>2518</th>\n",
              "      <td>Thank you!</td>\n",
              "      <td>0.999858</td>\n",
              "      <td>0.2</td>\n",
              "      <td>0.7</td>\n",
              "      <td>0.0</td>\n",
              "      <td>0.7</td>\n",
              "      <td>0.0</td>\n",
              "      <td>0.0</td>\n",
              "      <td>0.2</td>\n",
              "      <td>0.5</td>\n",
              "      <td>10</td>\n",
              "      <td>D</td>\n",
              "    </tr>\n",
              "    <tr>\n",
              "      <th>2519</th>\n",
              "      <td>Thank you and Namaskaram 🙏</td>\n",
              "      <td>0.999655</td>\n",
              "      <td>0.0</td>\n",
              "      <td>0.8</td>\n",
              "      <td>0.0</td>\n",
              "      <td>0.8</td>\n",
              "      <td>0.0</td>\n",
              "      <td>0.0</td>\n",
              "      <td>0.7</td>\n",
              "      <td>0.6</td>\n",
              "      <td>27</td>\n",
              "      <td>D</td>\n",
              "    </tr>\n",
              "  </tbody>\n",
              "</table>\n",
              "<p>2510 rows × 12 columns</p>\n",
              "</div>\n",
              "      <button class=\"colab-df-convert\" onclick=\"convertToInteractive('df-735e7630-700e-480c-929a-c37e79c601d4')\"\n",
              "              title=\"Convert this dataframe to an interactive table.\"\n",
              "              style=\"display:none;\">\n",
              "        \n",
              "  <svg xmlns=\"http://www.w3.org/2000/svg\" height=\"24px\"viewBox=\"0 0 24 24\"\n",
              "       width=\"24px\">\n",
              "    <path d=\"M0 0h24v24H0V0z\" fill=\"none\"/>\n",
              "    <path d=\"M18.56 5.44l.94 2.06.94-2.06 2.06-.94-2.06-.94-.94-2.06-.94 2.06-2.06.94zm-11 1L8.5 8.5l.94-2.06 2.06-.94-2.06-.94L8.5 2.5l-.94 2.06-2.06.94zm10 10l.94 2.06.94-2.06 2.06-.94-2.06-.94-.94-2.06-.94 2.06-2.06.94z\"/><path d=\"M17.41 7.96l-1.37-1.37c-.4-.4-.92-.59-1.43-.59-.52 0-1.04.2-1.43.59L10.3 9.45l-7.72 7.72c-.78.78-.78 2.05 0 2.83L4 21.41c.39.39.9.59 1.41.59.51 0 1.02-.2 1.41-.59l7.78-7.78 2.81-2.81c.8-.78.8-2.07 0-2.86zM5.41 20L4 18.59l7.72-7.72 1.47 1.35L5.41 20z\"/>\n",
              "  </svg>\n",
              "      </button>\n",
              "      \n",
              "  <style>\n",
              "    .colab-df-container {\n",
              "      display:flex;\n",
              "      flex-wrap:wrap;\n",
              "      gap: 12px;\n",
              "    }\n",
              "\n",
              "    .colab-df-convert {\n",
              "      background-color: #E8F0FE;\n",
              "      border: none;\n",
              "      border-radius: 50%;\n",
              "      cursor: pointer;\n",
              "      display: none;\n",
              "      fill: #1967D2;\n",
              "      height: 32px;\n",
              "      padding: 0 0 0 0;\n",
              "      width: 32px;\n",
              "    }\n",
              "\n",
              "    .colab-df-convert:hover {\n",
              "      background-color: #E2EBFA;\n",
              "      box-shadow: 0px 1px 2px rgba(60, 64, 67, 0.3), 0px 1px 3px 1px rgba(60, 64, 67, 0.15);\n",
              "      fill: #174EA6;\n",
              "    }\n",
              "\n",
              "    [theme=dark] .colab-df-convert {\n",
              "      background-color: #3B4455;\n",
              "      fill: #D2E3FC;\n",
              "    }\n",
              "\n",
              "    [theme=dark] .colab-df-convert:hover {\n",
              "      background-color: #434B5C;\n",
              "      box-shadow: 0px 1px 3px 1px rgba(0, 0, 0, 0.15);\n",
              "      filter: drop-shadow(0px 1px 2px rgba(0, 0, 0, 0.3));\n",
              "      fill: #FFFFFF;\n",
              "    }\n",
              "  </style>\n",
              "\n",
              "      <script>\n",
              "        const buttonEl =\n",
              "          document.querySelector('#df-735e7630-700e-480c-929a-c37e79c601d4 button.colab-df-convert');\n",
              "        buttonEl.style.display =\n",
              "          google.colab.kernel.accessAllowed ? 'block' : 'none';\n",
              "\n",
              "        async function convertToInteractive(key) {\n",
              "          const element = document.querySelector('#df-735e7630-700e-480c-929a-c37e79c601d4');\n",
              "          const dataTable =\n",
              "            await google.colab.kernel.invokeFunction('convertToInteractive',\n",
              "                                                     [key], {});\n",
              "          if (!dataTable) return;\n",
              "\n",
              "          const docLinkHtml = 'Like what you see? Visit the ' +\n",
              "            '<a target=\"_blank\" href=https://colab.research.google.com/notebooks/data_table.ipynb>data table notebook</a>'\n",
              "            + ' to learn more about interactive tables.';\n",
              "          element.innerHTML = '';\n",
              "          dataTable['output_type'] = 'display_data';\n",
              "          await google.colab.output.renderOutput(dataTable, element);\n",
              "          const docLink = document.createElement('div');\n",
              "          docLink.innerHTML = docLinkHtml;\n",
              "          element.appendChild(docLink);\n",
              "        }\n",
              "      </script>\n",
              "    </div>\n",
              "  </div>\n",
              "  "
            ]
          },
          "metadata": {},
          "execution_count": 395
        }
      ]
    },
    {
      "cell_type": "code",
      "execution_count": null,
      "id": "6cadcd14",
      "metadata": {
        "id": "6cadcd14"
      },
      "outputs": [],
      "source": [
        "PRE_TRAINED_MODEL_NAME = \"dsantistevan/bert-base-cased-bert-yoga-finetuned\""
      ]
    },
    {
      "cell_type": "code",
      "execution_count": null,
      "id": "ed7759d0",
      "metadata": {
        "id": "ed7759d0"
      },
      "outputs": [],
      "source": [
        "tokenizer = AutoTokenizer.from_pretrained(PRE_TRAINED_MODEL_NAME)"
      ]
    },
    {
      "cell_type": "code",
      "execution_count": null,
      "id": "0e254b7c",
      "metadata": {
        "id": "0e254b7c"
      },
      "outputs": [],
      "source": [
        "token_lens = []\n",
        "\n",
        "for txt in df.comment:\n",
        "    tokens = tokenizer.encode(txt)\n",
        "    token_lens.append(len(tokens))"
      ]
    },
    {
      "cell_type": "code",
      "execution_count": null,
      "id": "eb418e3e",
      "metadata": {
        "colab": {
          "base_uri": "https://localhost:8080/",
          "height": 561
        },
        "id": "eb418e3e",
        "outputId": "635c9f80-41b3-4ebe-fb7d-8e08b2d3e670"
      },
      "outputs": [
        {
          "output_type": "stream",
          "name": "stderr",
          "text": [
            "/usr/local/lib/python3.7/dist-packages/seaborn/distributions.py:2619: FutureWarning: `distplot` is a deprecated function and will be removed in a future version. Please adapt your code to use either `displot` (a figure-level function with similar flexibility) or `histplot` (an axes-level function for histograms).\n",
            "  warnings.warn(msg, FutureWarning)\n"
          ]
        },
        {
          "output_type": "display_data",
          "data": {
            "text/plain": [
              "<Figure size 864x576 with 1 Axes>"
            ],
            "image/png": "[encoded data removed]"
          },
          "metadata": {
            "image/png": {
              "width": 757,
              "height": 489
            }
          }
        }
      ],
      "source": [
        "sns.distplot(token_lens)\n",
        "plt.xlim([0, 560]);\n",
        "plt.xlabel('Token count');"
      ]
    },
    {
      "cell_type": "code",
      "execution_count": null,
      "id": "0ab3d0be",
      "metadata": {
        "id": "0ab3d0be"
      },
      "outputs": [],
      "source": [
        "MAX_LEN = 500"
      ]
    },
    {
      "cell_type": "code",
      "execution_count": null,
      "id": "b632094e",
      "metadata": {
        "id": "b632094e"
      },
      "outputs": [],
      "source": [
        "class YTCommentDataset(Dataset):\n",
        "\n",
        "    def __init__(self, comments, targets, tokenizer, max_len):\n",
        "        self.comments = comments\n",
        "        self.targets = targets\n",
        "        self.tokenizer = tokenizer\n",
        "        self.max_len = max_len\n",
        "\n",
        "    def __len__(self):\n",
        "        return len(self.comments)\n",
        "\n",
        "    def __getitem__(self, item):\n",
        "        comment = str(self.comments[item])\n",
        "        target = self.targets[item:item+1]\n",
        "\n",
        "        encoding = self.tokenizer.encode_plus(\n",
        "          comment,\n",
        "          add_special_tokens=True,\n",
        "          max_length=self.max_len,\n",
        "          return_token_type_ids=False,\n",
        "          pad_to_max_length=True,\n",
        "          return_attention_mask=True,\n",
        "          return_tensors='pt',\n",
        "        )\n",
        "\n",
        "        return {\n",
        "          'comment_text': comment,\n",
        "          'input_ids': encoding['input_ids'].flatten(),\n",
        "          'attention_mask': encoding['attention_mask'].flatten(),\n",
        "          'targets': torch.FloatTensor(list(target))\n",
        "        }"
      ]
    },
    {
      "cell_type": "code",
      "execution_count": null,
      "id": "b2a40f23",
      "metadata": {
        "id": "b2a40f23"
      },
      "outputs": [],
      "source": [
        "df_train, df_test = train_test_split(df, test_size=0.2)\n",
        "df_val, df_test = train_test_split(df_test, test_size=0.5)"
      ]
    },
    {
      "cell_type": "code",
      "execution_count": null,
      "id": "5c95262a",
      "metadata": {
        "colab": {
          "base_uri": "https://localhost:8080/"
        },
        "id": "5c95262a",
        "outputId": "1e66702d-0c74-4db2-cb3a-0d58b81b7717"
      },
      "outputs": [
        {
          "output_type": "execute_result",
          "data": {
            "text/plain": [
              "((2008, 12), (251, 12), (251, 12))"
            ]
          },
          "metadata": {},
          "execution_count": 403
        }
      ],
      "source": [
        "df_train.shape, df_val.shape, df_test.shape"
      ]
    },
    {
      "cell_type": "code",
      "source": [
        "sentiment_num = 7"
      ],
      "metadata": {
        "id": "2pBT6w7piKb1"
      },
      "id": "2pBT6w7piKb1",
      "execution_count": null,
      "outputs": []
    },
    {
      "cell_type": "code",
      "execution_count": null,
      "id": "56a2db4a",
      "metadata": {
        "id": "56a2db4a"
      },
      "outputs": [],
      "source": [
        "def create_data_loader(df, tokenizer, max_len, batch_size):\n",
        "    ds = YTCommentDataset(\n",
        "        comments=df.comment.to_numpy(),\n",
        "        targets=df[sentiments[sentiment_num]].to_numpy(),\n",
        "        tokenizer=tokenizer,\n",
        "        max_len=max_len\n",
        "    )\n",
        "\n",
        "    return DataLoader(\n",
        "        ds,\n",
        "        batch_size=batch_size\n",
        "    )"
      ]
    },
    {
      "cell_type": "code",
      "execution_count": null,
      "id": "c8cb54a9",
      "metadata": {
        "id": "c8cb54a9"
      },
      "outputs": [],
      "source": [
        "BATCH_SIZE = 16\n",
        "\n",
        "train_data_loader = create_data_loader(df_train, tokenizer, MAX_LEN, BATCH_SIZE)\n",
        "val_data_loader = create_data_loader(df_val, tokenizer, MAX_LEN, BATCH_SIZE)\n",
        "test_data_loader = create_data_loader(df_test, tokenizer, MAX_LEN, BATCH_SIZE)"
      ]
    },
    {
      "cell_type": "code",
      "execution_count": null,
      "id": "4e77d61e",
      "metadata": {
        "colab": {
          "base_uri": "https://localhost:8080/"
        },
        "id": "4e77d61e",
        "outputId": "2bf13958-b82f-4015-8555-b3bb19d7c446"
      },
      "outputs": [
        {
          "output_type": "stream",
          "name": "stderr",
          "text": [
            "Truncation was not explicitly activated but `max_length` is provided a specific value, please use `truncation=True` to explicitly truncate examples to max length. Defaulting to 'longest_first' truncation strategy. If you encode pairs of sequences (GLUE-style) with the tokenizer you can select this strategy more precisely by providing a specific strategy to `truncation`.\n",
            "/usr/local/lib/python3.7/dist-packages/transformers/tokenization_utils_base.py:2329: FutureWarning: The `pad_to_max_length` argument is deprecated and will be removed in a future version, use `padding=True` or `padding='longest'` to pad to the longest sequence in the batch, or use `padding='max_length'` to pad to a max length. In this case, you can give a specific length with `max_length` (e.g. `max_length=45`) or leave max_length to None to pad to the maximal input size of the model (e.g. 512 for Bert).\n",
            "  FutureWarning,\n"
          ]
        },
        {
          "output_type": "execute_result",
          "data": {
            "text/plain": [
              "dict_keys(['comment_text', 'input_ids', 'attention_mask', 'targets'])"
            ]
          },
          "metadata": {},
          "execution_count": 407
        }
      ],
      "source": [
        "\n",
        "data = next(iter(train_data_loader))\n",
        "data.keys()"
      ]
    },
    {
      "cell_type": "code",
      "execution_count": null,
      "id": "b212148c",
      "metadata": {
        "colab": {
          "base_uri": "https://localhost:8080/"
        },
        "id": "b212148c",
        "outputId": "da47b9a3-aabd-4a7c-eeb3-833fddf101b3"
      },
      "outputs": [
        {
          "output_type": "stream",
          "name": "stdout",
          "text": [
            "tensor([[ 0.0000],\n",
            "        [ 0.0000],\n",
            "        [ 0.8000],\n",
            "        [ 0.8000],\n",
            "        [ 0.7000],\n",
            "        [ 0.0000],\n",
            "        [ 0.2000],\n",
            "        [ 0.0000],\n",
            "        [ 0.5000],\n",
            "        [ 0.4000],\n",
            "        [-0.6000],\n",
            "        [ 0.0000],\n",
            "        [ 0.0000],\n",
            "        [ 0.5000],\n",
            "        [ 0.5000],\n",
            "        [ 0.6000]])\n"
          ]
        }
      ],
      "source": [
        "print(data['targets'])"
      ]
    },
    {
      "cell_type": "code",
      "execution_count": null,
      "id": "9cc8345e",
      "metadata": {
        "id": "9cc8345e"
      },
      "outputs": [],
      "source": [
        "class SentimentScorer(nn.Module):\n",
        "\n",
        "    def __init__(self):\n",
        "        super(SentimentScorer, self).__init__()\n",
        "        self.bert = AutoModel.from_pretrained(PRE_TRAINED_MODEL_NAME)\n",
        "        for param in self.bert.parameters():\n",
        "            param.requires_grad = False\n",
        "        self.drop = nn.Dropout(p=0.3)\n",
        "        self.out = nn.Linear(self.bert.config.hidden_size, 1)\n",
        "\n",
        "    def forward(self, input_ids, attention_mask):\n",
        "        pooled_output = self.bert(\n",
        "          input_ids=input_ids,\n",
        "          attention_mask=attention_mask\n",
        "        )[1]\n",
        "        output = self.drop(F.relu(pooled_output))\n",
        "        return self.out(output)"
      ]
    },
    {
      "cell_type": "code",
      "execution_count": null,
      "id": "59f2c45f",
      "metadata": {
        "colab": {
          "base_uri": "https://localhost:8080/"
        },
        "id": "59f2c45f",
        "outputId": "083c7b5f-6298-4a53-d925-03f5b3ac3bea"
      },
      "outputs": [
        {
          "output_type": "stream",
          "name": "stderr",
          "text": [
            "Some weights of the model checkpoint at dsantistevan/bert-base-cased-bert-yoga-finetuned were not used when initializing BertModel: ['cls.predictions.transform.dense.weight', 'cls.predictions.transform.LayerNorm.bias', 'cls.predictions.decoder.bias', 'cls.predictions.transform.LayerNorm.weight', 'cls.predictions.bias', 'cls.predictions.decoder.weight', 'cls.predictions.transform.dense.bias']\n",
            "- This IS expected if you are initializing BertModel from the checkpoint of a model trained on another task or with another architecture (e.g. initializing a BertForSequenceClassification model from a BertForPreTraining model).\n",
            "- This IS NOT expected if you are initializing BertModel from the checkpoint of a model that you expect to be exactly identical (initializing a BertForSequenceClassification model from a BertForSequenceClassification model).\n",
            "Some weights of BertModel were not initialized from the model checkpoint at dsantistevan/bert-base-cased-bert-yoga-finetuned and are newly initialized: ['bert.pooler.dense.bias', 'bert.pooler.dense.weight']\n",
            "You should probably TRAIN this model on a down-stream task to be able to use it for predictions and inference.\n"
          ]
        },
        {
          "output_type": "execute_result",
          "data": {
            "text/plain": [
              "<All keys matched successfully>"
            ]
          },
          "metadata": {},
          "execution_count": 410
        }
      ],
      "source": [
        "model = SentimentScorer()\n",
        "model = model.to(device)\n",
        "model.load_state_dict(torch.load(HOME_DIR+'regression/minus_to_one/best_model_state_{}.bin'.format(sentiments[sentiment_num]), map_location=device))"
      ]
    },
    {
      "cell_type": "code",
      "execution_count": null,
      "id": "b02e8ce7",
      "metadata": {
        "id": "b02e8ce7"
      },
      "outputs": [],
      "source": [
        "bert_params = set()\n",
        "for param in model.bert.parameters():\n",
        "    param.requires_grad = False\n",
        "    bert_params.add(param)"
      ]
    },
    {
      "cell_type": "code",
      "execution_count": null,
      "id": "8d5674be",
      "metadata": {
        "colab": {
          "base_uri": "https://localhost:8080/"
        },
        "id": "8d5674be",
        "outputId": "8e228039-cf03-4c70-8ec6-a26fd0fcab17"
      },
      "outputs": [
        {
          "output_type": "stream",
          "name": "stdout",
          "text": [
            "Parameter containing:\n",
            "tensor([[ 2.0500e-03,  1.1949e-01,  2.2646e-02,  3.0759e-02, -2.8282e-03,\n",
            "          1.2332e-02,  1.3122e-02,  8.6707e-03, -8.1244e-02, -1.6201e-02,\n",
            "         -7.7394e-02,  1.5670e-02, -6.7275e-03,  3.4532e-02, -1.4434e-02,\n",
            "         -6.7626e-03, -1.7551e-03,  2.3756e-02,  2.5966e-02, -2.5360e-03,\n",
            "          2.2361e-02,  1.2031e-02,  3.2779e-02,  1.3309e-03, -1.4127e-03,\n",
            "          1.5705e-02, -4.4543e-02, -1.8313e-03, -6.5948e-03, -1.9555e-02,\n",
            "          1.7670e-02,  1.9193e-02, -3.1082e-02,  3.2778e-02,  1.5358e-02,\n",
            "          1.9810e-02,  1.9816e-02, -3.4627e-02,  1.9278e-02,  6.2437e-03,\n",
            "          1.2202e-02, -9.6205e-03, -4.6564e-02,  1.9105e-02, -1.3691e-02,\n",
            "         -3.2964e-02,  4.2957e-02,  2.6989e-02, -3.7224e-02,  2.8776e-02,\n",
            "          2.5366e-02, -9.2125e-03,  2.3631e-02, -7.8883e-03,  7.5092e-03,\n",
            "          1.6460e-02, -6.1083e-03,  2.5669e-02, -5.0641e-03,  1.5570e-02,\n",
            "          3.2838e-02, -2.4415e-02,  6.0390e-03,  1.7665e-02,  5.0553e-03,\n",
            "          3.2527e-02, -6.1571e-02,  2.7956e-03,  3.2563e-02, -9.5511e-03,\n",
            "         -2.5586e-02,  8.5628e-03,  8.0984e-03, -1.3423e-02, -3.4694e-02,\n",
            "          3.2670e-02, -2.9501e-02, -3.5552e-03,  4.1796e-03,  1.8373e-02,\n",
            "          1.2489e-02, -1.6580e-02,  4.4891e-02, -3.5263e-02,  1.8902e-03,\n",
            "         -4.3881e-03,  2.6843e-02, -2.4241e-02,  2.1471e-02, -3.3332e-03,\n",
            "         -1.7170e-02,  8.3616e-03, -2.2795e-02,  1.4122e-02,  9.2473e-03,\n",
            "         -2.2610e-02, -2.1482e-02,  4.3153e-02, -3.0383e-02,  2.8072e-02,\n",
            "         -3.2941e-04, -2.4581e-02, -1.4007e-02, -1.9077e-02, -1.3175e-02,\n",
            "         -9.2815e-03,  1.0909e-02,  4.0213e-02, -1.8355e-02,  2.4088e-02,\n",
            "         -1.7735e-02,  1.9685e-02,  1.7427e-02,  3.0436e-03, -1.8456e-02,\n",
            "         -3.1186e-02,  6.0362e-02, -3.2401e-03,  4.2967e-03,  3.0985e-02,\n",
            "         -6.7427e-04, -8.8001e-03, -4.4795e-02,  1.4818e-03,  2.6756e-02,\n",
            "          1.3048e-02, -2.3794e-02,  3.7715e-02,  1.1669e-02, -1.2130e-02,\n",
            "         -1.6826e-02,  3.0215e-02,  1.0868e-02,  3.3641e-02, -2.3906e-03,\n",
            "          4.0640e-02, -6.1643e-03,  4.6689e-03,  1.2760e-03,  1.9467e-02,\n",
            "          1.0558e-02,  1.6067e-03, -4.8472e-02, -2.4891e-02, -2.4802e-02,\n",
            "         -5.9784e-03, -4.1121e-03,  2.9962e-02,  1.9989e-02,  3.8238e-02,\n",
            "          2.5380e-02,  2.0464e-02,  2.1265e-02,  1.4229e-03, -1.7016e-02,\n",
            "          2.2131e-02,  4.7363e-02, -1.7989e-02, -3.0177e-02,  9.5616e-03,\n",
            "          1.9124e-02, -1.1839e-02,  2.4258e-03,  1.4062e-02, -2.3318e-02,\n",
            "          9.5961e-03, -2.7234e-02,  1.8305e-02,  1.1109e-02,  8.2593e-03,\n",
            "          7.4492e-03,  1.7231e-02, -1.3096e-02, -1.7794e-02, -1.6872e-02,\n",
            "         -9.4024e-03,  2.9352e-03,  2.4758e-02,  1.0442e-02, -1.2897e-02,\n",
            "         -1.7212e-02,  8.4577e-03, -8.8536e-03, -2.9082e-02,  1.4624e-02,\n",
            "          2.3005e-02, -2.2706e-02,  5.3586e-02, -8.6608e-03, -3.4210e-02,\n",
            "         -1.3644e-03, -3.7376e-02,  1.4026e-02,  4.8106e-02,  2.5258e-02,\n",
            "          1.2945e-02, -2.4476e-03,  9.1177e-03, -3.8590e-02,  2.3315e-02,\n",
            "          3.3608e-02,  3.0007e-02, -4.1697e-03, -1.7229e-02,  1.6353e-02,\n",
            "          3.2436e-04,  3.0011e-02,  3.0692e-02,  3.0317e-02, -2.6654e-02,\n",
            "         -3.9574e-03,  2.0752e-02,  1.0183e-02, -4.1875e-03,  3.5355e-03,\n",
            "          1.2869e-05, -2.2913e-02, -1.0150e-03,  1.5707e-02, -1.5850e-03,\n",
            "          2.2707e-03,  2.9003e-02,  5.8732e-03,  4.9156e-03, -7.9971e-03,\n",
            "          2.9947e-02,  7.8401e-03, -7.5874e-03, -3.3973e-02, -6.2991e-03,\n",
            "          4.5984e-03,  8.4379e-03, -2.5272e-02, -3.5721e-02, -1.7981e-02,\n",
            "          3.0055e-02, -1.6911e-02, -2.4195e-02,  3.6433e-02,  1.4793e-02,\n",
            "          2.2516e-02, -1.7310e-02,  8.6452e-03, -5.8603e-03,  1.1112e-02,\n",
            "         -1.2555e-02,  1.2351e-02,  5.4443e-02,  1.1586e-03,  2.9055e-02,\n",
            "          2.7937e-02, -1.2322e-02,  3.2002e-02,  3.1679e-02,  1.2927e-02,\n",
            "         -3.0386e-02, -1.8437e-02,  2.5495e-02,  2.6052e-02,  1.4590e-02,\n",
            "         -4.3176e-03, -2.8013e-02,  1.4875e-02,  3.0618e-03, -3.3779e-02,\n",
            "          2.5308e-03,  3.4456e-02, -1.6641e-03,  5.8700e-02, -1.4378e-02,\n",
            "         -2.0495e-02,  2.9087e-02,  6.4971e-03, -1.4715e-02,  1.0660e-02,\n",
            "          2.2016e-02, -4.1138e-03,  1.5497e-02,  4.3222e-02, -1.7115e-03,\n",
            "          4.4482e-02,  2.6842e-02, -3.1979e-02,  7.6910e-03, -3.8112e-02,\n",
            "         -2.5315e-02,  2.5760e-02,  1.0313e-03,  1.7706e-02, -1.6905e-02,\n",
            "         -7.9282e-03,  3.0327e-03, -2.0429e-02,  5.6728e-03,  1.4231e-02,\n",
            "          3.1710e-02, -3.6087e-03,  1.6508e-03,  5.4061e-02, -1.0211e-02,\n",
            "         -3.7032e-03, -1.9883e-02,  2.2375e-02, -2.0637e-02,  2.8813e-02,\n",
            "         -4.0679e-03, -1.0060e-02, -3.3218e-02,  2.3623e-02,  1.1463e-02,\n",
            "         -1.5762e-02,  3.3887e-02,  1.0693e-02, -6.3303e-04, -9.4589e-03,\n",
            "          3.0989e-02,  8.8280e-03,  1.3915e-02,  1.6127e-03,  1.3917e-02,\n",
            "          4.3267e-03,  1.1480e-02, -2.9864e-03, -4.5511e-02,  3.0001e-02,\n",
            "         -2.7839e-02,  7.6778e-02, -6.0766e-03, -1.3546e-02, -5.4112e-03,\n",
            "          1.5116e-02,  9.4961e-03,  2.0785e-02,  4.4188e-03,  2.1649e-02,\n",
            "         -2.6703e-02,  4.6065e-03, -3.0713e-02,  1.8722e-02, -3.3292e-02,\n",
            "         -7.7492e-03,  2.2469e-02, -1.8351e-02,  1.4051e-02,  2.7737e-03,\n",
            "         -7.9552e-03,  7.9436e-03,  1.5527e-02, -2.3959e-02,  1.0276e-02,\n",
            "         -1.9988e-02,  2.0658e-02,  3.6543e-02,  3.6015e-02,  2.6296e-02,\n",
            "         -3.4281e-02,  2.7074e-02, -2.1432e-02,  8.8968e-03,  6.4715e-03,\n",
            "         -3.1406e-03,  1.8262e-02,  2.5547e-02,  1.2689e-02, -1.3549e-02,\n",
            "          3.4342e-03,  2.6244e-02,  4.3603e-02,  3.7573e-03, -2.8731e-02,\n",
            "         -2.2732e-02,  5.8897e-03,  3.1119e-03,  3.2060e-02,  3.6869e-02,\n",
            "          1.4142e-02,  9.1464e-03, -7.7453e-03, -3.4132e-02,  2.5519e-02,\n",
            "          3.4785e-02,  3.8264e-03, -1.1920e-02, -3.0976e-03,  1.4616e-02,\n",
            "          3.1310e-02, -5.6302e-02,  1.4861e-02,  3.3481e-03, -6.3136e-03,\n",
            "          7.6953e-03, -1.0644e-02,  3.8741e-02, -3.1061e-02, -6.7494e-03,\n",
            "         -8.0374e-03,  6.4740e-04,  3.6821e-03,  1.3490e-02,  1.5609e-02,\n",
            "          3.1903e-03,  1.2721e-02,  5.9196e-02, -3.7752e-02,  2.5070e-02,\n",
            "          3.2309e-02, -2.8849e-02,  1.5519e-02, -3.5070e-02,  1.0593e-02,\n",
            "         -5.7286e-02,  1.5251e-02,  1.0155e-02,  1.6320e-02,  1.9837e-03,\n",
            "         -2.1262e-02, -1.5162e-02, -2.9514e-02, -2.6538e-02, -2.4622e-02,\n",
            "          1.4785e-02, -3.6263e-02, -2.2189e-02,  2.8690e-02, -1.6645e-02,\n",
            "          1.6797e-02, -3.5144e-02, -5.0435e-03,  5.3356e-04,  3.3908e-02,\n",
            "         -1.5936e-02, -1.7037e-02,  2.2418e-02,  1.9895e-02,  2.4100e-02,\n",
            "         -2.0344e-02,  7.2861e-04, -1.5932e-02,  2.3665e-02,  1.6422e-02,\n",
            "          1.2942e-02,  1.8403e-02, -3.4825e-02,  2.4540e-02, -3.1856e-03,\n",
            "          1.1732e-02,  3.1510e-02, -6.5489e-03, -2.4769e-02,  3.6636e-03,\n",
            "         -1.4869e-02,  6.9503e-03, -1.1820e-03, -2.4973e-02, -1.2965e-02,\n",
            "          4.2048e-03, -1.6568e-02,  2.0858e-03, -3.3207e-02, -2.5621e-02,\n",
            "         -3.7372e-03,  2.8718e-02, -1.6153e-02,  5.1637e-03,  3.7560e-03,\n",
            "          1.4249e-02,  6.7277e-02, -9.6596e-03, -8.8196e-03, -8.5864e-04,\n",
            "          8.2366e-03,  4.0480e-02,  1.6566e-02, -1.5205e-02,  4.7515e-02,\n",
            "         -2.3642e-02, -2.1853e-02, -1.0129e-02, -5.0003e-02,  2.8491e-02,\n",
            "         -4.4779e-02,  1.7883e-02, -4.5611e-02, -2.8302e-02, -3.4590e-02,\n",
            "         -6.3503e-03,  5.7545e-02, -3.5709e-02,  8.2281e-03, -4.1963e-02,\n",
            "         -1.5409e-02,  2.8801e-03,  2.0178e-03, -2.6975e-02,  1.6562e-02,\n",
            "         -4.0599e-03, -2.1692e-02,  1.7629e-02,  9.5768e-03,  5.3653e-03,\n",
            "          2.6222e-02,  1.0064e-02,  2.0307e-02, -1.6552e-02, -4.1900e-02,\n",
            "         -4.1518e-03,  2.8483e-03,  1.6630e-02,  5.7807e-03, -5.5249e-03,\n",
            "         -2.1529e-02, -3.2496e-02,  2.0766e-02, -3.4359e-02, -2.2023e-02,\n",
            "         -4.3622e-03,  3.2393e-02,  3.5962e-02, -2.6232e-02, -9.4411e-03,\n",
            "          3.4441e-02,  3.8080e-02,  1.0429e-02,  2.2564e-02,  5.5416e-02,\n",
            "          2.4750e-02,  2.0660e-02,  4.7822e-02,  3.7102e-02, -2.5570e-02,\n",
            "         -2.4095e-04, -1.9487e-02,  1.5418e-02,  1.2516e-02, -1.6838e-02,\n",
            "          1.2138e-02, -2.3270e-02, -2.9994e-02,  2.6102e-02, -3.3607e-03,\n",
            "          1.9905e-03,  3.3923e-03, -3.3754e-02, -4.6823e-03,  3.1907e-02,\n",
            "         -1.0448e-02, -8.3235e-03,  1.5427e-02,  2.8442e-02,  1.7595e-02,\n",
            "          1.1094e-02, -1.4860e-02, -3.8849e-02,  3.1240e-02,  2.4426e-02,\n",
            "          5.9905e-03, -7.2020e-03,  2.9840e-04,  1.7910e-02,  1.0234e-02,\n",
            "         -3.0972e-02,  2.9087e-02,  5.3519e-02,  1.4883e-03,  2.9802e-02,\n",
            "         -2.4480e-02,  2.3884e-02,  1.9143e-02,  5.0610e-02, -2.0345e-02,\n",
            "         -1.3876e-02,  1.7451e-02, -9.3213e-03,  5.6477e-03, -4.5527e-02,\n",
            "          2.6731e-02, -1.7323e-02, -2.5340e-02,  5.0803e-03,  2.3334e-02,\n",
            "         -2.5376e-03,  3.0050e-02, -2.8675e-02,  4.5597e-02, -4.5524e-03,\n",
            "         -2.7801e-02,  3.3947e-02, -1.8617e-03,  8.4818e-03,  1.4024e-02,\n",
            "         -3.3425e-02, -3.4734e-02, -2.4503e-02, -3.5522e-02,  2.2700e-02,\n",
            "          1.7096e-02, -2.7160e-02, -1.4411e-03, -1.7038e-02,  4.5116e-03,\n",
            "         -4.7525e-03, -4.2304e-02,  1.6099e-02, -9.1366e-03,  2.3065e-02,\n",
            "          3.3999e-02,  4.0427e-03,  7.0268e-03,  1.2217e-02, -3.0928e-02,\n",
            "         -9.9216e-03, -5.7107e-03,  1.5425e-02, -2.3547e-03,  1.5932e-02,\n",
            "         -3.1633e-02, -1.1900e-03,  2.1103e-02, -2.9503e-02,  1.0383e-02,\n",
            "         -1.9396e-02,  2.0557e-02,  1.4727e-02, -8.5926e-04,  1.6061e-02,\n",
            "         -2.7702e-03, -6.2163e-03,  1.9241e-02,  6.3671e-02,  2.9858e-02,\n",
            "          2.7396e-02,  1.3693e-02,  1.5230e-02, -1.3468e-02, -8.1471e-03,\n",
            "          3.7902e-02, -1.0675e-02,  2.7685e-02, -5.7937e-03, -3.0287e-02,\n",
            "         -1.5396e-02, -2.6535e-02,  1.1088e-02,  1.1848e-02,  3.1942e-02,\n",
            "         -2.5432e-02,  2.2236e-02,  2.6949e-02,  3.5844e-02,  7.1532e-02,\n",
            "          1.0021e-02,  1.7799e-03, -1.3058e-02, -2.4275e-02, -1.0067e-02,\n",
            "         -9.0775e-03,  2.6564e-03, -3.3876e-02,  4.7032e-03, -4.8258e-02,\n",
            "          2.3680e-02,  3.1841e-02,  1.0444e-02, -6.3370e-03, -2.7626e-02,\n",
            "          3.0934e-02, -7.3608e-03,  4.2522e-02,  3.5340e-02, -1.5995e-02,\n",
            "         -1.5550e-03, -1.3599e-02, -2.3257e-02,  3.6253e-02,  2.0414e-02,\n",
            "         -4.4244e-03,  7.1738e-03,  2.9592e-02, -7.1688e-03,  2.7290e-03,\n",
            "         -3.5402e-03,  1.9536e-02,  1.0504e-02,  3.0412e-02, -3.4988e-02,\n",
            "         -1.3679e-02, -1.7689e-02,  4.4546e-03, -8.4367e-03, -3.4841e-02,\n",
            "          5.2451e-03, -1.6763e-02, -3.3373e-02,  3.1360e-02,  4.9513e-02,\n",
            "         -1.8700e-02,  8.1966e-03, -6.9426e-03, -1.4630e-03,  3.4463e-02,\n",
            "          2.4667e-02, -1.7889e-02,  3.1301e-02, -1.9170e-02,  4.0907e-02,\n",
            "          5.9963e-03, -1.5189e-03, -2.8499e-02, -8.4827e-03,  5.1437e-02,\n",
            "         -1.4388e-02,  1.0309e-02, -7.6311e-03,  4.2651e-02,  5.0695e-03,\n",
            "          1.0396e-02, -4.6987e-03, -2.0308e-02, -6.5384e-04,  1.4875e-02,\n",
            "         -2.7920e-02, -2.6195e-02, -1.8548e-02, -6.8577e-03,  4.2051e-02,\n",
            "         -1.8463e-02, -3.7499e-03,  1.1877e-03,  1.0835e-02,  3.3340e-02,\n",
            "          3.0636e-02, -4.0508e-03,  2.4489e-03,  6.6899e-03, -2.8378e-02,\n",
            "          1.6251e-02,  9.1237e-05,  1.4547e-02,  2.9247e-02, -8.9480e-03,\n",
            "          3.7823e-03, -1.8758e-02,  1.7362e-02,  1.7262e-02, -2.1744e-02,\n",
            "         -2.5176e-02, -9.5074e-03,  1.5231e-03,  4.1708e-03, -2.1050e-03,\n",
            "         -6.5301e-03, -1.1464e-02,  5.5853e-03, -9.0884e-04,  9.4707e-03,\n",
            "          2.6269e-02, -9.1753e-03, -1.1983e-02,  1.3263e-02,  2.3407e-02,\n",
            "         -1.5914e-02, -1.3211e-04,  5.5461e-03,  2.2551e-02, -2.0667e-02,\n",
            "         -4.0409e-03,  6.4319e-03, -2.1835e-02]], device='cuda:0',\n",
            "       requires_grad=True)\n",
            "Parameter containing:\n",
            "tensor([0.0320], device='cuda:0', requires_grad=True)\n"
          ]
        }
      ],
      "source": [
        "\n",
        "for param in model.parameters():\n",
        "    if param not in bert_params:\n",
        "        print(param)"
      ]
    },
    {
      "cell_type": "code",
      "execution_count": null,
      "id": "4a59ac23",
      "metadata": {
        "colab": {
          "base_uri": "https://localhost:8080/"
        },
        "id": "4a59ac23",
        "outputId": "5cdd3fb0-4770-4c95-9299-ecdcbb55933f"
      },
      "outputs": [
        {
          "output_type": "stream",
          "name": "stdout",
          "text": [
            "torch.Size([1, 768])\n",
            "torch.Size([1])\n"
          ]
        }
      ],
      "source": [
        "for i in model.out.parameters():\n",
        "    print(i.shape)"
      ]
    },
    {
      "cell_type": "code",
      "execution_count": null,
      "id": "639cc0cd",
      "metadata": {
        "id": "639cc0cd"
      },
      "outputs": [],
      "source": [
        "EPOCHS = 00\n",
        "\n",
        "optimizer = torch.optim.SGD(model.out.parameters(), lr=0.003)\n",
        "total_steps = len(train_data_loader) * EPOCHS\n",
        "\n",
        "scheduler = get_linear_schedule_with_warmup(\n",
        "  optimizer,\n",
        "  num_warmup_steps=0,\n",
        "  num_training_steps=total_steps\n",
        ")\n",
        "\n",
        "loss_fn = nn.L1Loss().to(device)"
      ]
    },
    {
      "cell_type": "code",
      "execution_count": null,
      "id": "a2e61f11",
      "metadata": {
        "id": "a2e61f11"
      },
      "outputs": [],
      "source": [
        "def train_epoch(\n",
        "  model,\n",
        "  data_loader,\n",
        "  loss_fn,\n",
        "  optimizer,\n",
        "  device,\n",
        "  scheduler,\n",
        "  n_examples\n",
        "):\n",
        "    model = model.train()\n",
        "\n",
        "    losses = []\n",
        "    correct_predictions = 0\n",
        "\n",
        "    for d in data_loader:\n",
        "        input_ids = d[\"input_ids\"].to(device)\n",
        "        attention_mask = d[\"attention_mask\"].to(device)\n",
        "        targets = d[\"targets\"].to(device)\n",
        "\n",
        "        outputs = model(\n",
        "          input_ids=input_ids,\n",
        "          attention_mask=attention_mask\n",
        "        )\n",
        "\n",
        "        _, preds = torch.max(outputs, dim=1)\n",
        "        loss = loss_fn(outputs, targets)\n",
        "\n",
        "        correct_predictions += torch.sum(preds == targets)\n",
        "        losses.append(loss.item())\n",
        "\n",
        "        loss.backward()\n",
        "        nn.utils.clip_grad_norm_(model.parameters(), max_norm=1.0)\n",
        "\n",
        "\n",
        "        optimizer.step()\n",
        "        scheduler.step()\n",
        "        optimizer.zero_grad()\n",
        "\n",
        "    return correct_predictions.double() / n_examples, np.mean(losses)"
      ]
    },
    {
      "cell_type": "code",
      "execution_count": null,
      "id": "5a8b61b4",
      "metadata": {
        "id": "5a8b61b4"
      },
      "outputs": [],
      "source": [
        "def eval_model(model, data_loader, loss_fn, device, n_examples):\n",
        "    model = model.eval()\n",
        "\n",
        "    losses = []\n",
        "    correct_predictions = 0\n",
        "\n",
        "    with torch.no_grad():\n",
        "        for d in data_loader:\n",
        "            input_ids = d[\"input_ids\"].to(device)\n",
        "            attention_mask = d[\"attention_mask\"].to(device)\n",
        "            targets = d[\"targets\"].to(device)\n",
        "\n",
        "            outputs = model(\n",
        "            input_ids=input_ids,\n",
        "            attention_mask=attention_mask\n",
        "            )\n",
        "\n",
        "            #print(outputs)\n",
        "            #print(targets)\n",
        "            _, preds = torch.max(outputs, dim=1)\n",
        "\n",
        "            loss = loss_fn(outputs, targets)\n",
        "\n",
        "            correct_predictions += torch.sum(preds == targets)\n",
        "            losses.append(loss.item())\n",
        "\n",
        "    return correct_predictions.double() / n_examples, np.mean(losses)"
      ]
    },
    {
      "cell_type": "code",
      "execution_count": null,
      "id": "de5d1bd9",
      "metadata": {
        "colab": {
          "base_uri": "https://localhost:8080/"
        },
        "id": "de5d1bd9",
        "outputId": "ee5bb1c6-7c20-4f7c-d2c4-c06a3c89c43b"
      },
      "outputs": [
        {
          "output_type": "stream",
          "name": "stdout",
          "text": [
            "CPU times: user 8 µs, sys: 1 µs, total: 9 µs\n",
            "Wall time: 12.2 µs\n"
          ]
        }
      ],
      "source": [
        "%%time\n",
        "\n",
        "history = defaultdict(list)\n",
        "best_accuracy = 0\n",
        "best_loss = float('inf')\n",
        "\n",
        "for epoch in range(EPOCHS):\n",
        "\n",
        "    print(f'Epoch {epoch + 1}/{EPOCHS}')\n",
        "    print('-' * 10)\n",
        "\n",
        "    train_acc, train_loss = train_epoch(\n",
        "        model,\n",
        "        train_data_loader,\n",
        "        loss_fn,\n",
        "        optimizer,\n",
        "        device,\n",
        "        scheduler,\n",
        "        len(df_train)\n",
        "    )\n",
        "\n",
        "    print(f'Train loss {train_loss} accuracy {train_acc}')\n",
        "\n",
        "    val_acc, val_loss = eval_model(\n",
        "        model,\n",
        "        val_data_loader,\n",
        "        loss_fn,\n",
        "        device,\n",
        "        len(df_val)\n",
        "    )\n",
        "\n",
        "    print(f'Val   loss {val_loss} accuracy {val_acc}')\n",
        "    print()\n",
        "\n",
        "    history['train_acc'].append(train_acc)\n",
        "    history['train_loss'].append(train_loss)\n",
        "    history['val_acc'].append(val_acc)\n",
        "    history['val_loss'].append(val_loss)\n",
        "\n",
        "    if val_loss < best_loss:\n",
        "        torch.save(model.state_dict(), 'best_model_state_{}.bin'.format(sentiments[sentiment_num]))\n",
        "        best_loss = val_loss"
      ]
    },
    {
      "cell_type": "code",
      "source": [
        "def mae(y_true, predictions):\n",
        "    y_true, predictions = np.array(y_true), np.array(predictions)\n",
        "    return np.mean(np.abs(y_true - predictions))"
      ],
      "metadata": {
        "id": "k7F1usBqfOoP"
      },
      "id": "k7F1usBqfOoP",
      "execution_count": null,
      "outputs": []
    },
    {
      "cell_type": "code",
      "execution_count": null,
      "id": "0a23fc83",
      "metadata": {
        "id": "0a23fc83",
        "colab": {
          "base_uri": "https://localhost:8080/"
        },
        "outputId": "b17d8ffb-68da-4fd8-b455-1d07cd1bbe22"
      },
      "outputs": [
        {
          "output_type": "stream",
          "name": "stdout",
          "text": [
            "235\n",
            "CPU times: user 4.22 s, sys: 4.84 ms, total: 4.23 s\n",
            "Wall time: 5.85 s\n"
          ]
        }
      ],
      "source": [
        "%%time\n",
        "sumaa=0\n",
        "mod = []\n",
        "tar = []\n",
        "for i in test_data_loader:\n",
        "    for j in range(len(i['input_ids'])-1):\n",
        "      inp = i['input_ids'][j:j+1].to(device)\n",
        "      att = i['attention_mask'][j:j+1].to(device)\n",
        "      mod.append(model(input_ids=inp,attention_mask=att).flatten().item())\n",
        "      tar.append(i['targets'][j].flatten().item())\n",
        "print(len(tar))"
      ]
    },
    {
      "cell_type": "code",
      "source": [
        "plt.xlim(-1, 1)\n",
        "plt.ylim(-1, 1)\n",
        "plt.scatter(tar,mod)\n",
        "print(mae(tar,mod))\n",
        "a = [i/3 for i in range(-3,4)]\n",
        "plt.plot(a,a)"
      ],
      "metadata": {
        "colab": {
          "base_uri": "https://localhost:8080/",
          "height": 528
        },
        "id": "gsMdgtC9ZdMz",
        "outputId": "ea6c04a6-b650-40b7-badb-bf208716f89c"
      },
      "id": "gsMdgtC9ZdMz",
      "execution_count": null,
      "outputs": [
        {
          "output_type": "stream",
          "name": "stdout",
          "text": [
            "0.2527124553839577\n"
          ]
        },
        {
          "output_type": "execute_result",
          "data": {
            "text/plain": [
              "[<matplotlib.lines.Line2D at 0x7f1328300d10>]"
            ]
          },
          "metadata": {},
          "execution_count": 420
        },
        {
          "output_type": "display_data",
          "data": {
            "text/plain": [
              "<Figure size 864x576 with 1 Axes>"
            ],
            "image/png": "[encoded data removed]"
          },
          "metadata": {
            "image/png": {
              "width": 748,
              "height": 476
            }
          }
        }
      ]
    },
    {
      "cell_type": "code",
      "source": [
        "tar_np = np.array(mod)"
      ],
      "metadata": {
        "id": "LWWRUwBLr-3J"
      },
      "id": "LWWRUwBLr-3J",
      "execution_count": null,
      "outputs": []
    },
    {
      "cell_type": "code",
      "source": [
        "normalized = (tar_np - np.min(tar_np)) / (np.max(tar_np) - np.min(tar_np))"
      ],
      "metadata": {
        "id": "d-0-oHtqsSbb"
      },
      "id": "d-0-oHtqsSbb",
      "execution_count": null,
      "outputs": []
    },
    {
      "cell_type": "code",
      "source": [
        "plt.xlim(-1, 1)\n",
        "plt.ylim(-1, 1)\n",
        "plt.scatter(tar,(normalized-0.5)*2)\n",
        "print(mae(tar, (normalized-0.5)*2))\n",
        "a = [i/3 for i in range(-3,4)]\n",
        "plt.plot(a,a)"
      ],
      "metadata": {
        "id": "SkRWVaYwo8zq",
        "colab": {
          "base_uri": "https://localhost:8080/",
          "height": 528
        },
        "outputId": "0018dc87-b2db-4e6f-e088-ea92154d2719"
      },
      "id": "SkRWVaYwo8zq",
      "execution_count": null,
      "outputs": [
        {
          "output_type": "stream",
          "name": "stdout",
          "text": [
            "0.3328901443933605\n"
          ]
        },
        {
          "output_type": "execute_result",
          "data": {
            "text/plain": [
              "[<matplotlib.lines.Line2D at 0x7f1350402990>]"
            ]
          },
          "metadata": {},
          "execution_count": 423
        },
        {
          "output_type": "display_data",
          "data": {
            "text/plain": [
              "<Figure size 864x576 with 1 Axes>"
            ],
            "image/png": "[encoded data removed]"
          },
          "metadata": {
            "image/png": {
              "width": 748,
              "height": 476
            }
          }
        }
      ]
    },
    {
      "cell_type": "code",
      "source": [
        "plt.plot(history['val_loss'])\n",
        "plt.plot(history['train_loss'])"
      ],
      "metadata": {
        "id": "B1SwA8h2TLtz",
        "colab": {
          "base_uri": "https://localhost:8080/",
          "height": 505
        },
        "outputId": "749d487c-67b7-4b7c-ad8c-c62e8cb4a543"
      },
      "id": "B1SwA8h2TLtz",
      "execution_count": null,
      "outputs": [
        {
          "output_type": "execute_result",
          "data": {
            "text/plain": [
              "[<matplotlib.lines.Line2D at 0x7f1328564a90>]"
            ]
          },
          "metadata": {},
          "execution_count": 424
        },
        {
          "output_type": "display_data",
          "data": {
            "text/plain": [
              "<Figure size 864x576 with 1 Axes>"
            ],
            "image/png": "[encoded data removed]"
          },
          "metadata": {
            "image/png": {
              "width": 733,
              "height": 471
            }
          }
        }
      ]
    },
    {
      "cell_type": "code",
      "source": [
        "from os import listdir"
      ],
      "metadata": {
        "id": "EAceEq_Jta0h"
      },
      "id": "EAceEq_Jta0h",
      "execution_count": null,
      "outputs": []
    },
    {
      "cell_type": "code",
      "source": [
        "mypath = HOME_DIR+\"/DATASET CAPSTONE CARDIFF\"\n",
        "L = []\n",
        "for i in range(2014,2022):\n",
        "    path2=mypath + \"/Comments \" + str(i+1)\n",
        "    onlyfiles = [f for f in listdir(path2) if f.endswith('.csv')]\n",
        "    L.append((onlyfiles, path2))"
      ],
      "metadata": {
        "id": "KuL_kiZns_Dj"
      },
      "id": "KuL_kiZns_Dj",
      "execution_count": null,
      "outputs": []
    },
    {
      "cell_type": "code",
      "source": [
        "#L = L[1:]\n",
        "L"
      ],
      "metadata": {
        "colab": {
          "base_uri": "https://localhost:8080/"
        },
        "id": "ZiTelgH-tfcp",
        "outputId": "ba74545c-89e5-469d-a84f-dfc5169a96e7"
      },
      "id": "ZiTelgH-tfcp",
      "execution_count": null,
      "outputs": [
        {
          "output_type": "execute_result",
          "data": {
            "text/plain": [
              "[(['comments2015-01-02.csv',\n",
              "   'comments2015-01-00.csv',\n",
              "   'comments2015-01-03.csv',\n",
              "   'comments2015-01-01.csv',\n",
              "   'comments2015-01-10.csv',\n",
              "   'comments2015-01-07.csv',\n",
              "   'comments2015-01-09.csv',\n",
              "   'comments2015-01-06.csv',\n",
              "   'comments2015-01-08.csv',\n",
              "   'comments2015-01-05.csv',\n",
              "   'comments2015-01-04.csv',\n",
              "   'comments2015-01-11.csv',\n",
              "   'comments2015-01-13.csv',\n",
              "   'comments2015-01-12.csv',\n",
              "   'comments2015-01-15.csv',\n",
              "   'comments2015-01-14.csv',\n",
              "   'comments2015-01-16.csv',\n",
              "   'comments2015-01-18.csv',\n",
              "   'comments2015-01-21.csv',\n",
              "   'comments2015-01-23.csv',\n",
              "   'comments2015-01-20.csv',\n",
              "   'comments2015-01-17.csv',\n",
              "   'comments2015-01-19.csv',\n",
              "   'comments2015-01-22.csv',\n",
              "   'comments2015-01-24.csv',\n",
              "   'comments2015-01-25.csv',\n",
              "   'comments2015-01-26.csv',\n",
              "   'comments2015-01-29.csv',\n",
              "   'comments2015-01-27.csv',\n",
              "   'comments2015-01-30.csv',\n",
              "   'comments2015-01-28.csv'],\n",
              "  '/content/drive/MyDrive/tesis_final_work//DATASET CAPSTONE CARDIFF/Comments 2015'),\n",
              " (['comments2016-01-00.csv',\n",
              "   'comments2016-01-01.csv',\n",
              "   'comments2016-01-02.csv',\n",
              "   'comments2016-01-03.csv',\n",
              "   'comments2016-01-04.csv',\n",
              "   'comments2016-01-05.csv',\n",
              "   'comments2016-01-08.csv',\n",
              "   'comments2016-01-06.csv',\n",
              "   'comments2016-01-07.csv',\n",
              "   'comments2016-01-12.csv',\n",
              "   'comments2016-01-10.csv',\n",
              "   'comments2016-01-09.csv',\n",
              "   'comments2016-01-11.csv',\n",
              "   'comments2016-01-13.csv',\n",
              "   'comments2016-01-15.csv',\n",
              "   'comments2016-01-14.csv',\n",
              "   'comments2016-01-16.csv',\n",
              "   'comments2016-01-17.csv',\n",
              "   'comments2016-01-18.csv',\n",
              "   'comments2016-01-20.csv',\n",
              "   'comments2016-01-21.csv',\n",
              "   'comments2016-01-19.csv',\n",
              "   'comments2016-01-22.csv',\n",
              "   'comments2016-01-23.csv',\n",
              "   'comments2016-01-24.csv',\n",
              "   'comments2016-01-25.csv',\n",
              "   'comments2016-01-26.csv',\n",
              "   'comments2016-01-28.csv',\n",
              "   'comments2016-01-27.csv',\n",
              "   'comments2016-01-29.csv',\n",
              "   'comments2016-01-30.csv'],\n",
              "  '/content/drive/MyDrive/tesis_final_work//DATASET CAPSTONE CARDIFF/Comments 2016'),\n",
              " (['comments2017-01-01.csv',\n",
              "   'comments2017-01-00.csv',\n",
              "   'comments2017-01-02.csv',\n",
              "   'comments2017-01-03.csv',\n",
              "   'comments2017-01-05.csv',\n",
              "   'comments2017-01-04.csv',\n",
              "   'comments2017-01-06.csv',\n",
              "   'comments2017-01-07.csv',\n",
              "   'comments2017-01-10.csv',\n",
              "   'comments2017-01-11.csv',\n",
              "   'comments2017-01-08.csv',\n",
              "   'comments2017-01-09.csv',\n",
              "   'comments2017-01-12.csv',\n",
              "   'comments2017-01-13.csv',\n",
              "   'comments2017-01-15.csv',\n",
              "   'comments2017-01-14.csv',\n",
              "   'comments2017-01-17.csv',\n",
              "   'comments2017-01-16.csv',\n",
              "   'comments2017-01-20.csv',\n",
              "   'comments2017-01-18.csv',\n",
              "   'comments2017-01-19.csv',\n",
              "   'comments2017-01-21.csv',\n",
              "   'comments2017-01-23.csv',\n",
              "   'comments2017-01-22.csv',\n",
              "   'comments2017-01-24.csv',\n",
              "   'comments2017-01-25.csv',\n",
              "   'comments2017-01-29.csv',\n",
              "   'comments2017-01-27.csv',\n",
              "   'comments2017-01-28.csv',\n",
              "   'comments2017-01-31.csv',\n",
              "   'comments2017-01-30.csv',\n",
              "   'comments2017-01-26.csv'],\n",
              "  '/content/drive/MyDrive/tesis_final_work//DATASET CAPSTONE CARDIFF/Comments 2017'),\n",
              " (['comments2018-01-02.csv',\n",
              "   'comments2018-01-03.csv',\n",
              "   'comments2018-01-00.csv',\n",
              "   'comments2018-01-01.csv',\n",
              "   'comments2018-01-04.csv',\n",
              "   'comments2018-01-07.csv',\n",
              "   'comments2018-01-09.csv',\n",
              "   'comments2018-01-05.csv',\n",
              "   'comments2018-01-06.csv',\n",
              "   'comments2018-01-08.csv',\n",
              "   'comments2018-01-11.csv',\n",
              "   'comments2018-01-10.csv',\n",
              "   'comments2018-01-12.csv',\n",
              "   'comments2018-01-13.csv',\n",
              "   'comments2018-01-14.csv',\n",
              "   'comments2018-01-16.csv',\n",
              "   'comments2018-01-15.csv',\n",
              "   'comments2018-01-18.csv',\n",
              "   'comments2018-01-19.csv',\n",
              "   'comments2018-01-17.csv',\n",
              "   'comments2018-01-20.csv',\n",
              "   'comments2018-01-21.csv',\n",
              "   'comments2018-01-22.csv',\n",
              "   'comments2018-01-24.csv',\n",
              "   'comments2018-01-23.csv',\n",
              "   'comments2018-01-26.csv',\n",
              "   'comments2018-01-28.csv',\n",
              "   'comments2018-01-27.csv',\n",
              "   'comments2018-01-25.csv',\n",
              "   'comments2018-01-29.csv',\n",
              "   'comments2018-01-30.csv',\n",
              "   'comments2018-01-31.csv'],\n",
              "  '/content/drive/MyDrive/tesis_final_work//DATASET CAPSTONE CARDIFF/Comments 2018'),\n",
              " (['comments2019-01-00.csv',\n",
              "   'comments2019-01-01.csv',\n",
              "   'comments2019-01-02.csv',\n",
              "   'comments2019-01-03.csv',\n",
              "   'comments2019-01-05.csv',\n",
              "   'comments2019-01-04.csv',\n",
              "   'comments2019-01-06.csv',\n",
              "   'comments2019-01-07.csv',\n",
              "   'comments2019-01-08.csv',\n",
              "   'comments2019-01-09.csv',\n",
              "   'comments2019-01-12.csv',\n",
              "   'comments2019-01-10.csv',\n",
              "   'comments2019-01-11.csv',\n",
              "   'comments2019-01-13.csv',\n",
              "   'comments2019-01-14.csv',\n",
              "   'comments2019-01-15.csv',\n",
              "   'comments2019-01-16.csv',\n",
              "   'comments2019-01-18.csv',\n",
              "   'comments2019-01-17.csv',\n",
              "   'comments2019-01-19.csv',\n",
              "   'comments2019-01-20.csv',\n",
              "   'comments2019-01-21.csv',\n",
              "   'comments2019-01-23.csv',\n",
              "   'comments2019-01-22.csv',\n",
              "   'comments2019-01-24.csv',\n",
              "   'comments2019-01-25.csv',\n",
              "   'comments2019-01-26.csv',\n",
              "   'comments2019-01-27.csv',\n",
              "   'comments2019-01-28.csv',\n",
              "   'comments2019-01-29.csv',\n",
              "   'comments2019-01-30.csv',\n",
              "   'comments2019-01-31.csv'],\n",
              "  '/content/drive/MyDrive/tesis_final_work//DATASET CAPSTONE CARDIFF/Comments 2019'),\n",
              " (['comments2020-01-00.csv',\n",
              "   'comments2020-01-01.csv',\n",
              "   'comments2020-01-02.csv',\n",
              "   'comments2020-01-03.csv',\n",
              "   'comments2020-01-04.csv',\n",
              "   'comments2020-01-05.csv',\n",
              "   'comments2020-01-06.csv',\n",
              "   'comments2020-01-08.csv',\n",
              "   'comments2020-01-07.csv',\n",
              "   'comments2020-01-11.csv',\n",
              "   'comments2020-01-09.csv',\n",
              "   'comments2020-01-10.csv',\n",
              "   'comments2020-01-12.csv',\n",
              "   'comments2020-01-13.csv',\n",
              "   'comments2020-01-14.csv',\n",
              "   'comments2020-01-16.csv',\n",
              "   'comments2020-01-17.csv',\n",
              "   'comments2020-01-15.csv',\n",
              "   'comments2020-01-18.csv',\n",
              "   'comments2020-01-19.csv',\n",
              "   'comments2020-01-20.csv',\n",
              "   'comments2020-01-21.csv',\n",
              "   'comments2020-01-23.csv',\n",
              "   'comments2020-01-22.csv',\n",
              "   'comments2020-01-25.csv',\n",
              "   'comments2020-01-24.csv',\n",
              "   'comments2020-01-26.csv',\n",
              "   'comments2020-01-27.csv',\n",
              "   'comments2020-01-29.csv',\n",
              "   'comments2020-01-28.csv',\n",
              "   'comments2020-01-30.csv'],\n",
              "  '/content/drive/MyDrive/tesis_final_work//DATASET CAPSTONE CARDIFF/Comments 2020'),\n",
              " (['comments2021-01-02.csv',\n",
              "   'comments2021-01-01.csv',\n",
              "   'comments2021-01-00.csv',\n",
              "   'comments2021-01-04.csv',\n",
              "   'comments2021-01-06.csv',\n",
              "   'comments2021-01-05.csv',\n",
              "   'comments2021-01-08.csv',\n",
              "   'comments2021-01-03.csv',\n",
              "   'comments2021-01-07.csv',\n",
              "   'comments2021-01-09.csv',\n",
              "   'comments2021-01-12.csv',\n",
              "   'comments2021-01-11.csv',\n",
              "   'comments2021-01-10.csv',\n",
              "   'comments2021-01-17.csv',\n",
              "   'comments2021-01-18.csv',\n",
              "   'comments2021-01-15.csv',\n",
              "   'comments2021-01-13.csv',\n",
              "   'comments2021-01-16.csv',\n",
              "   'comments2021-01-14.csv',\n",
              "   'comments2021-01-19.csv',\n",
              "   'comments2021-01-21.csv',\n",
              "   'comments2021-01-20.csv',\n",
              "   'comments2021-01-22.csv',\n",
              "   'comments2021-01-28.csv',\n",
              "   'comments2021-01-26.csv',\n",
              "   'comments2021-01-27.csv',\n",
              "   'comments2021-01-25.csv',\n",
              "   'comments2021-01-24.csv',\n",
              "   'comments2021-01-29.csv',\n",
              "   'comments2021-01-23.csv',\n",
              "   'comments2021-01-30.csv',\n",
              "   'comments2021-01-31.csv'],\n",
              "  '/content/drive/MyDrive/tesis_final_work//DATASET CAPSTONE CARDIFF/Comments 2021'),\n",
              " (['comments2022-01-00.csv',\n",
              "   'comments2022-01-01.csv',\n",
              "   'comments2022-01-04.csv',\n",
              "   'comments2022-01-06.csv',\n",
              "   'comments2022-01-03.csv',\n",
              "   'comments2022-01-07.csv',\n",
              "   'comments2022-01-02.csv',\n",
              "   'comments2022-01-05.csv',\n",
              "   'comments2022-01-08.csv',\n",
              "   'comments2022-01-09.csv',\n",
              "   'comments2022-01-10.csv',\n",
              "   'comments2022-01-11.csv',\n",
              "   'comments2022-01-13.csv',\n",
              "   'comments2022-01-14.csv',\n",
              "   'comments2022-01-12.csv',\n",
              "   'comments2022-01-15.csv',\n",
              "   'comments2022-01-18.csv',\n",
              "   'comments2022-01-16.csv',\n",
              "   'comments2022-01-17.csv',\n",
              "   'comments2022-01-21.csv',\n",
              "   'comments2022-01-19.csv',\n",
              "   'comments2022-01-20.csv',\n",
              "   'comments2022-01-22.csv',\n",
              "   'comments2022-01-24.csv',\n",
              "   'comments2022-01-25.csv',\n",
              "   'comments2022-01-23.csv',\n",
              "   'comments2022-01-26.csv',\n",
              "   'comments2022-01-27.csv',\n",
              "   'comments2022-01-28.csv',\n",
              "   'comments2022-01-29.csv',\n",
              "   'comments2022-01-30.csv'],\n",
              "  '/content/drive/MyDrive/tesis_final_work//DATASET CAPSTONE CARDIFF/Comments 2022')]"
            ]
          },
          "metadata": {},
          "execution_count": 427
        }
      ]
    },
    {
      "cell_type": "code",
      "source": [
        "for i in range(len(L)):\n",
        "  L[i] = sorted(L[i][0]), L[i][1]\n"
      ],
      "metadata": {
        "id": "LJ8XfLMHFYjU"
      },
      "id": "LJ8XfLMHFYjU",
      "execution_count": null,
      "outputs": []
    },
    {
      "cell_type": "code",
      "source": [
        "def calificar(row):\n",
        "    i = str(row['comment'])\n",
        "    tok = tokenizer.encode_plus(\n",
        "          i,\n",
        "          add_special_tokens=True,\n",
        "          max_length=MAX_LEN,\n",
        "          return_token_type_ids=False,\n",
        "          pad_to_max_length=True,\n",
        "          return_attention_mask=True,\n",
        "          return_tensors='pt',\n",
        "        )\n",
        "    if len(tok['input_ids']) < 512:\n",
        "        inp = tok['input_ids'].to(device)\n",
        "        att = tok['attention_mask'].to(device)\n",
        "        val = model(input_ids=inp,attention_mask=att).flatten().item()\n",
        "        return val\n",
        "    else:\n",
        "        a = re.split(\"\\.|\\n\",i)\n",
        "        b = 0\n",
        "        sent = 0\n",
        "        for j in a:\n",
        "            if len(j) > 0:\n",
        "                inp = tok['input_ids'].to(device)\n",
        "                att = tok['attention_mask'].to(device)\n",
        "                val = model(input_ids=inp,attention_mask=att).flatten().item()\n",
        "                sent += len(j) * val\n",
        "                b += len(j)\n",
        "        #l = 'POSITIVE' if sent > 0 else 'NEGATIVE'\n",
        "        return sent / b"
      ],
      "metadata": {
        "id": "1efoOrU8t0O6"
      },
      "id": "1efoOrU8t0O6",
      "execution_count": null,
      "outputs": []
    },
    {
      "cell_type": "code",
      "source": [
        "tokenizer('Hello')"
      ],
      "metadata": {
        "colab": {
          "base_uri": "https://localhost:8080/"
        },
        "id": "9vc2Z5XSuUKH",
        "outputId": "ed866507-3313-42e5-b947-e2264b1cff79"
      },
      "id": "9vc2Z5XSuUKH",
      "execution_count": null,
      "outputs": [
        {
          "output_type": "execute_result",
          "data": {
            "text/plain": [
              "{'input_ids': [101, 8667, 102], 'token_type_ids': [0, 0, 0], 'attention_mask': [1, 1, 1]}"
            ]
          },
          "metadata": {},
          "execution_count": 430
        }
      ]
    },
    {
      "cell_type": "code",
      "source": [
        "%%time\n",
        "a = 0\n",
        "b = 2015\n",
        "for file_list, path in L:\n",
        "    for file in file_list:\n",
        "      if False: #file in set_residual:\n",
        "        with open(path+'/'+file, \"rb\") as f:\n",
        "            df = pd.read_csv(f, index_col='Unnamed: 0')\n",
        "            df[sentiments[sentiment_num]] = df.apply(calificar, axis=1)\n",
        "            df.to_csv(path+'/'+file.replace('.csv','.csv'))\n",
        "        a+=1\n",
        "        print(a)\n",
        "    print(b)\n",
        "    b+=1\n",
        ""
      ],
      "metadata": {
        "colab": {
          "base_uri": "https://localhost:8080/"
        },
        "id": "mINx40VbtmXa",
        "outputId": "89bfd2bf-6237-4189-cae8-200e35702f18"
      },
      "id": "mINx40VbtmXa",
      "execution_count": null,
      "outputs": [
        {
          "output_type": "stream",
          "name": "stdout",
          "text": [
            "2015\n",
            "2016\n",
            "2017\n",
            "2018\n",
            "2019\n",
            "2020\n",
            "2021\n",
            "2022\n",
            "CPU times: user 3.91 ms, sys: 996 µs, total: 4.9 ms\n",
            "Wall time: 7.74 ms\n"
          ]
        }
      ]
    },
    {
      "cell_type": "code",
      "source": [
        "a = 0\n",
        "b = 2015\n",
        "min_val = 10\n",
        "max_val = -2\n",
        "set_residual = set()\n",
        "for file_list, path in L:\n",
        "    for file in file_list:\n",
        "      if False:\n",
        "        with open(path+'/'+file, \"rb\") as f:\n",
        "            df = pd.read_csv(f, index_col='Unnamed: 0')\n",
        "            try:\n",
        "              L_vals = df[sentiments[sentiment_num]].to_numpy()\n",
        "              min_val = min(min_val, np.min(L_vals))\n",
        "              max_val = max(max_val, np.max(L_vals))\n",
        "              if np.min(L_vals)<-1:\n",
        "                print(file, end=\" \")\n",
        "            except:\n",
        "              print(b,a,file)\n",
        "              set_residual.add(file)\n",
        "            #df.to_csv(path+'/'+file.replace('.csv','.csv'))\n",
        "        a+=1\n",
        "        print(a)\n",
        "    print(b)\n",
        "    b+=1"
      ],
      "metadata": {
        "id": "Doi7U8bd20AZ",
        "colab": {
          "base_uri": "https://localhost:8080/"
        },
        "outputId": "899f828e-4494-42f0-db0d-6537c91d6d1d"
      },
      "execution_count": null,
      "outputs": [
        {
          "output_type": "stream",
          "name": "stdout",
          "text": [
            "2015\n",
            "2016\n",
            "2017\n",
            "2018\n",
            "2019\n",
            "2020\n",
            "2021\n",
            "2022\n"
          ]
        }
      ],
      "id": "Doi7U8bd20AZ"
    },
    {
      "cell_type": "code",
      "source": [
        "min_val, max_val"
      ],
      "metadata": {
        "id": "ZYxzKrmnEl5h",
        "colab": {
          "base_uri": "https://localhost:8080/"
        },
        "outputId": "f960ea31-63b8-4a2e-9dd1-05d47523312b"
      },
      "id": "ZYxzKrmnEl5h",
      "execution_count": null,
      "outputs": [
        {
          "output_type": "execute_result",
          "data": {
            "text/plain": [
              "(10, -2)"
            ]
          },
          "metadata": {},
          "execution_count": 433
        }
      ]
    },
    {
      "cell_type": "code",
      "source": [
        "plt.boxplot(L_vals)"
      ],
      "metadata": {
        "id": "j5JgF_lJ3R6S",
        "colab": {
          "base_uri": "https://localhost:8080/",
          "height": 627
        },
        "outputId": "7d6c25dd-8a7d-4e28-fef7-a1b99be70ea2"
      },
      "id": "j5JgF_lJ3R6S",
      "execution_count": null,
      "outputs": [
        {
          "output_type": "execute_result",
          "data": {
            "text/plain": [
              "{'whiskers': [<matplotlib.lines.Line2D at 0x7f13281305d0>,\n",
              "  <matplotlib.lines.Line2D at 0x7f1328130b10>],\n",
              " 'caps': [<matplotlib.lines.Line2D at 0x7f1328130350>,\n",
              "  <matplotlib.lines.Line2D at 0x7f13281395d0>],\n",
              " 'boxes': [<matplotlib.lines.Line2D at 0x7f13284f7fd0>],\n",
              " 'medians': [<matplotlib.lines.Line2D at 0x7f1328139b50>],\n",
              " 'fliers': [<matplotlib.lines.Line2D at 0x7f13281398d0>],\n",
              " 'means': []}"
            ]
          },
          "metadata": {},
          "execution_count": 434
        },
        {
          "output_type": "display_data",
          "data": {
            "text/plain": [
              "<Figure size 864x576 with 1 Axes>"
            ],
            "image/png": "[encoded data removed]"
          },
          "metadata": {
            "image/png": {
              "width": 725,
              "height": 471
            }
          }
        }
      ]
    },
    {
      "cell_type": "code",
      "source": [
        "normalized_vals = (L_vals - min_val) / (max_val - min_val)"
      ],
      "metadata": {
        "id": "oDpxGyfl4al6"
      },
      "id": "oDpxGyfl4al6",
      "execution_count": null,
      "outputs": []
    },
    {
      "cell_type": "code",
      "source": [
        "plt.boxplot((normalized_vals-0.5)*2)"
      ],
      "metadata": {
        "id": "TEJTAqzU4g-J",
        "colab": {
          "base_uri": "https://localhost:8080/",
          "height": 627
        },
        "outputId": "69fc154e-0499-4fd3-c287-c9322af0d81e"
      },
      "id": "TEJTAqzU4g-J",
      "execution_count": null,
      "outputs": [
        {
          "output_type": "execute_result",
          "data": {
            "text/plain": [
              "{'whiskers': [<matplotlib.lines.Line2D at 0x7f1328119f10>,\n",
              "  <matplotlib.lines.Line2D at 0x7f132811f750>],\n",
              " 'caps': [<matplotlib.lines.Line2D at 0x7f132811fc90>,\n",
              "  <matplotlib.lines.Line2D at 0x7f132811fa50>],\n",
              " 'boxes': [<matplotlib.lines.Line2D at 0x7f1328119c10>],\n",
              " 'medians': [<matplotlib.lines.Line2D at 0x7f1328126790>],\n",
              " 'fliers': [<matplotlib.lines.Line2D at 0x7f1328126cd0>],\n",
              " 'means': []}"
            ]
          },
          "metadata": {},
          "execution_count": 436
        },
        {
          "output_type": "display_data",
          "data": {
            "text/plain": [
              "<Figure size 864x576 with 1 Axes>"
            ],
            "image/png": "[encoded data removed]"
          },
          "metadata": {
            "image/png": {
              "width": 722,
              "height": 471
            }
          }
        }
      ]
    },
    {
      "cell_type": "code",
      "source": [
        "def normalize_sentiment(row, min, max, sent):\n",
        "  val = row[sent]\n",
        "  return (((val - min) / (max - min))-0.5)*2"
      ],
      "metadata": {
        "id": "j8mzjX2J5LSh"
      },
      "id": "j8mzjX2J5LSh",
      "execution_count": null,
      "outputs": []
    },
    {
      "cell_type": "code",
      "source": [
        "a = 0\n",
        "b = 2015\n",
        "for file_list, path in L:\n",
        "    for file in file_list:\n",
        "      if False: #file in set_residual:\n",
        "        with open(path+'/'+file, \"rb\") as f:\n",
        "            df = pd.read_csv(f, index_col='Unnamed: 0')\n",
        "            df[sentiments[sentiment_num]] = df.apply(normalize_sentiment, args=(min_val, max_val, sentiments[sentiment_num]), axis=1)\n",
        "            #print()\n",
        "            df.to_csv(path+'/'+file.replace('.csv','.csv'))\n",
        "        a+=1\n",
        "        print(a)\n",
        "    print(b)\n",
        "    b+=1"
      ],
      "metadata": {
        "id": "Fj6WV8_z5CpZ",
        "colab": {
          "base_uri": "https://localhost:8080/"
        },
        "outputId": "b9cce096-b274-49bd-96c5-af18bbf50355"
      },
      "id": "Fj6WV8_z5CpZ",
      "execution_count": null,
      "outputs": [
        {
          "output_type": "stream",
          "name": "stdout",
          "text": [
            "2015\n",
            "2016\n",
            "2017\n",
            "2018\n",
            "2019\n",
            "2020\n",
            "2021\n",
            "2022\n"
          ]
        }
      ]
    },
    {
      "cell_type": "code",
      "source": [
        "L[1]"
      ],
      "metadata": {
        "id": "W_Sy1GQsiuZ4",
        "colab": {
          "base_uri": "https://localhost:8080/"
        },
        "outputId": "58ae85bf-8e4b-496e-e6d7-f621db090d25"
      },
      "id": "W_Sy1GQsiuZ4",
      "execution_count": null,
      "outputs": [
        {
          "output_type": "execute_result",
          "data": {
            "text/plain": [
              "(['comments2016-01-00.csv',\n",
              "  'comments2016-01-01.csv',\n",
              "  'comments2016-01-02.csv',\n",
              "  'comments2016-01-03.csv',\n",
              "  'comments2016-01-04.csv',\n",
              "  'comments2016-01-05.csv',\n",
              "  'comments2016-01-06.csv',\n",
              "  'comments2016-01-07.csv',\n",
              "  'comments2016-01-08.csv',\n",
              "  'comments2016-01-09.csv',\n",
              "  'comments2016-01-10.csv',\n",
              "  'comments2016-01-11.csv',\n",
              "  'comments2016-01-12.csv',\n",
              "  'comments2016-01-13.csv',\n",
              "  'comments2016-01-14.csv',\n",
              "  'comments2016-01-15.csv',\n",
              "  'comments2016-01-16.csv',\n",
              "  'comments2016-01-17.csv',\n",
              "  'comments2016-01-18.csv',\n",
              "  'comments2016-01-19.csv',\n",
              "  'comments2016-01-20.csv',\n",
              "  'comments2016-01-21.csv',\n",
              "  'comments2016-01-22.csv',\n",
              "  'comments2016-01-23.csv',\n",
              "  'comments2016-01-24.csv',\n",
              "  'comments2016-01-25.csv',\n",
              "  'comments2016-01-26.csv',\n",
              "  'comments2016-01-27.csv',\n",
              "  'comments2016-01-28.csv',\n",
              "  'comments2016-01-29.csv',\n",
              "  'comments2016-01-30.csv'],\n",
              " '/content/drive/MyDrive/tesis_final_work//DATASET CAPSTONE CARDIFF/Comments 2016')"
            ]
          },
          "metadata": {},
          "execution_count": 439
        }
      ]
    },
    {
      "cell_type": "code",
      "source": [
        "sentiments[sentiment_num]"
      ],
      "metadata": {
        "id": "_ASRSwawOkf6",
        "colab": {
          "base_uri": "https://localhost:8080/",
          "height": 35
        },
        "outputId": "966d2886-6785-4d36-dae4-2d549d4fb8d6"
      },
      "id": "_ASRSwawOkf6",
      "execution_count": null,
      "outputs": [
        {
          "output_type": "execute_result",
          "data": {
            "text/plain": [
              "'Video'"
            ],
            "application/vnd.google.colaboratory.intrinsic+json": {
              "type": "string"
            }
          },
          "metadata": {},
          "execution_count": 440
        }
      ]
    }
  ],
  "metadata": {
    "kernelspec": {
      "display_name": "Python 3 (ipykernel)",
      "language": "python",
      "name": "python3"
    },
    "language_info": {
      "codemirror_mode": {
        "name": "ipython",
        "version": 3
      },
      "file_extension": ".py",
      "mimetype": "text/x-python",
      "name": "python",
      "nbconvert_exporter": "python",
      "pygments_lexer": "ipython3",
      "version": "3.9.6"
    },
    "colab": {
      "provenance": []
    },
    "accelerator": "GPU",
    "gpuClass": "standard"
  },
  "nbformat": 4,
  "nbformat_minor": 5
}